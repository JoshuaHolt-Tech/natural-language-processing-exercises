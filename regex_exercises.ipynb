{
 "cells": [
  {
   "cell_type": "code",
   "execution_count": 1,
   "id": "a037597e-33fc-4c7b-a271-1b73d67adbfc",
   "metadata": {},
   "outputs": [],
   "source": [
    "import re"
   ]
  },
  {
   "cell_type": "markdown",
   "id": "ccdf442a-d0a1-48cc-b64d-2226ed5c4705",
   "metadata": {
    "tags": []
   },
   "source": [
    "Write a function named is_vowel. It should accept a string as input and use a regular expression to determine if the passed string is a vowel. While not explicity mentioned in the lesson, you can treat the result of re.search as a boolean value that indicates whether or not the regular expression matches the given string."
   ]
  },
  {
   "cell_type": "code",
   "execution_count": 2,
   "id": "5e207977-7730-47be-b1e1-6b6884584247",
   "metadata": {},
   "outputs": [],
   "source": [
    "input_string = ['This is a string.', 'AAAAAAAA', 'aaaaaa', 'bced', 'AAAA123AAAA', 'aee', 'ace', 'aaaaaaaaaaaaaaaaaaaaaaaaaaaaaaaaa', '1codeup', 'Codeup' ]"
   ]
  },
  {
   "cell_type": "code",
   "execution_count": 3,
   "id": "6d248ad8-efe3-481c-8f93-fc44010632e0",
   "metadata": {},
   "outputs": [],
   "source": [
    "def is_vowel(input_string):\n",
    "    \"\"\" This function searches a string to see if it is all vowels and returns True or False. \"\"\"\n",
    "    if re.search(r'([a|e|i|o|u])+', item, re.IGNORECASE):\n",
    "        return True\n",
    "    else:\n",
    "        return False\n",
    "    "
   ]
  },
  {
   "cell_type": "code",
   "execution_count": 4,
   "id": "a7092e79-32b7-41c1-8bc3-fe86c7018ccb",
   "metadata": {},
   "outputs": [],
   "source": [
    "def not_vowels(input_string):\n",
    "    \"\"\" This function searches a string to see if it is all vowels and returns the first non-vowel item or False. \"\"\"\n",
    "    if re.search(r'([^a|e|i|o|u])+', item, re.IGNORECASE):\n",
    "        print(f\"{re.search(r'([^a|e|i|o|u])+', item, re.IGNORECASE)} non-vowel character present.\")\n",
    "    else:\n",
    "        return False\n",
    "    "
   ]
  },
  {
   "cell_type": "code",
   "execution_count": 5,
   "id": "08c3c6af-2f33-43ab-bad0-262e7fe69c77",
   "metadata": {},
   "outputs": [
    {
     "name": "stdout",
     "output_type": "stream",
     "text": [
      "<re.Match object; span=(0, 2), match='Th'> non-vowel character present.\n",
      "This is a string. is all vowels\n",
      "AAAAAAAA is all vowels\n",
      "aaaaaa is all vowels\n",
      "<re.Match object; span=(0, 2), match='bc'> non-vowel character present.\n",
      "bced is all vowels\n",
      "<re.Match object; span=(4, 7), match='123'> non-vowel character present.\n",
      "AAAA123AAAA is all vowels\n",
      "aee is all vowels\n",
      "<re.Match object; span=(1, 2), match='c'> non-vowel character present.\n",
      "ace is all vowels\n",
      "aaaaaaaaaaaaaaaaaaaaaaaaaaaaaaaaa is all vowels\n",
      "<re.Match object; span=(0, 2), match='1c'> non-vowel character present.\n",
      "1codeup is all vowels\n",
      "<re.Match object; span=(0, 1), match='C'> non-vowel character present.\n",
      "Codeup is all vowels\n"
     ]
    }
   ],
   "source": [
    "for item in input_string:\n",
    "    if not_vowels(item):\n",
    "        pass\n",
    "    elif is_vowel(item):\n",
    "        print(f'{item} is all vowels')"
   ]
  },
  {
   "cell_type": "markdown",
   "id": "fbe7c510-8c14-4e74-9b71-7f7897530eaf",
   "metadata": {
    "tags": []
   },
   "source": [
    "Write a function named is_valid_username that accepts a string as input. \n",
    "A valid username \n",
    "- starts with a lowercase letter (Needs ^\\w\n",
    "- only consists of lowercase letters, numbers, or the _ character \n",
    "- It should also be no longer than 32 characters\n",
    "- The function should return either True or False depending on whether the passed string is a valid username\n",
    "\n",
    "\n",
    ">>> is_valid_username('aaaaaaaaaaaaaaaaaaaaaaaaaaaaaaaaa')\n",
    "False\n",
    ">>> is_valid_username('codeup')\n",
    "True\n",
    ">>> is_valid_username('Codeup')\n",
    "False\n",
    ">>> is_valid_username('codeup123')\n",
    "True\n",
    ">>> is_valid_username('1codeup')\n",
    "False"
   ]
  },
  {
   "cell_type": "code",
   "execution_count": 6,
   "id": "d53806ae-8e0a-4027-9214-868010503648",
   "metadata": {},
   "outputs": [],
   "source": [
    "input_string = ['This is a string.', 'AAAAAAAA', 'aaaaaa', '_bced', 'AAAA123AAAA', 'aee', 'ace','valid_user007','not_valid_u$er007', 'aaaaaaaaaaaaaaaaaaaaaaaaaaaaaaaaa', 'codeup', '1codeup', 'Codeup', 'codeup123' ]"
   ]
  },
  {
   "cell_type": "code",
   "execution_count": 7,
   "id": "5e004f06-2d81-4172-b489-674b4540dbc2",
   "metadata": {},
   "outputs": [
    {
     "name": "stdout",
     "output_type": "stream",
     "text": [
      "Found aaaaaa\n",
      "Found aee\n",
      "Found ace\n",
      "Found valid_user007\n",
      "Found codeup\n",
      "Found codeup123\n"
     ]
    }
   ],
   "source": [
    "for item in input_string:\n",
    "    if re.search(r'^[a-z][a-z0-9_]{,31}$', item):\n",
    "        print(f'Found {item}')\n",
    "    else:\n",
    "        pass\n",
    "        #print(f'Nothing in {item}')"
   ]
  },
  {
   "cell_type": "code",
   "execution_count": 8,
   "id": "ead05d9d-49ee-4490-b9d8-d28d54b1597e",
   "metadata": {},
   "outputs": [],
   "source": [
    "def is_valid_username(input_string):\n",
    "    \"\"\" This function checks the input to see if it is a valid username and returns True or False \"\"\"\n",
    "    if re.search(r'^[a-z][a-z0-9_]{,31}$', input_string):\n",
    "        return True\n",
    "    else:\n",
    "        return False"
   ]
  },
  {
   "cell_type": "code",
   "execution_count": 9,
   "id": "b27e0257-374d-4cc2-b23d-666c9be0f13b",
   "metadata": {},
   "outputs": [
    {
     "name": "stdout",
     "output_type": "stream",
     "text": [
      "This is a string. is a valid username: False\n",
      "AAAAAAAA is a valid username: False\n",
      "aaaaaa is a valid username: True\n",
      "_bced is a valid username: False\n",
      "AAAA123AAAA is a valid username: False\n",
      "aee is a valid username: True\n",
      "ace is a valid username: True\n",
      "valid_user007 is a valid username: True\n",
      "not_valid_u$er007 is a valid username: False\n",
      "aaaaaaaaaaaaaaaaaaaaaaaaaaaaaaaaa is a valid username: False\n",
      "codeup is a valid username: True\n",
      "1codeup is a valid username: False\n",
      "Codeup is a valid username: False\n",
      "codeup123 is a valid username: True\n"
     ]
    }
   ],
   "source": [
    "for item in input_string:\n",
    "    print(f'{item} is a valid username: {is_valid_username(item)}')"
   ]
  },
  {
   "cell_type": "markdown",
   "id": "8c72f7c5-c0fb-4181-8407-ebb85d56234a",
   "metadata": {
    "tags": []
   },
   "source": [
    "Write a regular expression to capture phone numbers. It should match all of the following:\n",
    "\n",
    "\n",
    "- (210) 867 5309\n",
    "- +1 210.867.5309\n",
    "- 867-5309\n",
    "- 210-867-5309"
   ]
  },
  {
   "cell_type": "code",
   "execution_count": 72,
   "id": "1a10680a-b756-4398-8af9-304152876469",
   "metadata": {},
   "outputs": [],
   "source": [
    "phone_list = ['(210) 867 5309', '+1 210.867.5309', '867-5309', '99-867-5309', '210-867-5309', '9908675309']"
   ]
  },
  {
   "cell_type": "code",
   "execution_count": 75,
   "id": "696f6e13-dd36-4cf1-9c4a-ee26435d8c6b",
   "metadata": {},
   "outputs": [
    {
     "name": "stdout",
     "output_type": "stream",
     "text": [
      "<re.Match object; span=(0, 14), match='(210) 867 5309'>\n",
      "<re.Match object; span=(0, 15), match='+1 210.867.5309'>\n",
      "<re.Match object; span=(0, 8), match='867-5309'>\n",
      "<re.Match object; span=(0, 11), match='99-867-5309'>\n",
      "<re.Match object; span=(0, 12), match='210-867-5309'>\n",
      "<re.Match object; span=(0, 10), match='9908675309'>\n"
     ]
    }
   ],
   "source": [
    "for phone_num in phone_list:\n",
    "    print(re.search(r'^\\+?\\d?\\d?\\d?[\\s]?[(]?\\d?\\d?\\d?[)]?[\\s.-]?[\\d]{3}[\\s.-]?\\d{4}$', phone_num))"
   ]
  },
  {
   "cell_type": "code",
   "execution_count": 71,
   "id": "e10caf10-e7bf-4aba-9af9-73b2495d82fb",
   "metadata": {},
   "outputs": [
    {
     "ename": "error",
     "evalue": "unknown extension ?\\d at position 16",
     "output_type": "error",
     "traceback": [
      "\u001b[0;31m---------------------------------------------------------------------------\u001b[0m",
      "\u001b[0;31merror\u001b[0m                                     Traceback (most recent call last)",
      "\u001b[0;32m/var/folders/sg/9h_lqlfd6bgb63_prv2nr4mm0000gn/T/ipykernel_2597/3861623708.py\u001b[0m in \u001b[0;36m<module>\u001b[0;34m\u001b[0m\n\u001b[1;32m      1\u001b[0m \u001b[0;32mfor\u001b[0m \u001b[0mphone_num\u001b[0m \u001b[0;32min\u001b[0m \u001b[0mphone_list\u001b[0m\u001b[0;34m:\u001b[0m\u001b[0;34m\u001b[0m\u001b[0;34m\u001b[0m\u001b[0m\n\u001b[0;32m----> 2\u001b[0;31m     \u001b[0mprint\u001b[0m\u001b[0;34m(\u001b[0m\u001b[0mre\u001b[0m\u001b[0;34m.\u001b[0m\u001b[0msearch\u001b[0m\u001b[0;34m(\u001b[0m\u001b[0;34mr'^(\\+\\d{1,3}\\s)?(?\\d{3}\\)?[\\s.-]\\d{3}[\\s.-]\\d{4}$'\u001b[0m\u001b[0;34m,\u001b[0m \u001b[0mphone_num\u001b[0m\u001b[0;34m)\u001b[0m\u001b[0;34m)\u001b[0m\u001b[0;34m\u001b[0m\u001b[0;34m\u001b[0m\u001b[0m\n\u001b[0m",
      "\u001b[0;32m~/opt/anaconda3/lib/python3.9/re.py\u001b[0m in \u001b[0;36msearch\u001b[0;34m(pattern, string, flags)\u001b[0m\n\u001b[1;32m    199\u001b[0m     \"\"\"Scan through string looking for a match to the pattern, returning\n\u001b[1;32m    200\u001b[0m     a Match object, or None if no match was found.\"\"\"\n\u001b[0;32m--> 201\u001b[0;31m     \u001b[0;32mreturn\u001b[0m \u001b[0m_compile\u001b[0m\u001b[0;34m(\u001b[0m\u001b[0mpattern\u001b[0m\u001b[0;34m,\u001b[0m \u001b[0mflags\u001b[0m\u001b[0;34m)\u001b[0m\u001b[0;34m.\u001b[0m\u001b[0msearch\u001b[0m\u001b[0;34m(\u001b[0m\u001b[0mstring\u001b[0m\u001b[0;34m)\u001b[0m\u001b[0;34m\u001b[0m\u001b[0;34m\u001b[0m\u001b[0m\n\u001b[0m\u001b[1;32m    202\u001b[0m \u001b[0;34m\u001b[0m\u001b[0m\n\u001b[1;32m    203\u001b[0m \u001b[0;32mdef\u001b[0m \u001b[0msub\u001b[0m\u001b[0;34m(\u001b[0m\u001b[0mpattern\u001b[0m\u001b[0;34m,\u001b[0m \u001b[0mrepl\u001b[0m\u001b[0;34m,\u001b[0m \u001b[0mstring\u001b[0m\u001b[0;34m,\u001b[0m \u001b[0mcount\u001b[0m\u001b[0;34m=\u001b[0m\u001b[0;36m0\u001b[0m\u001b[0;34m,\u001b[0m \u001b[0mflags\u001b[0m\u001b[0;34m=\u001b[0m\u001b[0;36m0\u001b[0m\u001b[0;34m)\u001b[0m\u001b[0;34m:\u001b[0m\u001b[0;34m\u001b[0m\u001b[0;34m\u001b[0m\u001b[0m\n",
      "\u001b[0;32m~/opt/anaconda3/lib/python3.9/re.py\u001b[0m in \u001b[0;36m_compile\u001b[0;34m(pattern, flags)\u001b[0m\n\u001b[1;32m    302\u001b[0m     \u001b[0;32mif\u001b[0m \u001b[0;32mnot\u001b[0m \u001b[0msre_compile\u001b[0m\u001b[0;34m.\u001b[0m\u001b[0misstring\u001b[0m\u001b[0;34m(\u001b[0m\u001b[0mpattern\u001b[0m\u001b[0;34m)\u001b[0m\u001b[0;34m:\u001b[0m\u001b[0;34m\u001b[0m\u001b[0;34m\u001b[0m\u001b[0m\n\u001b[1;32m    303\u001b[0m         \u001b[0;32mraise\u001b[0m \u001b[0mTypeError\u001b[0m\u001b[0;34m(\u001b[0m\u001b[0;34m\"first argument must be string or compiled pattern\"\u001b[0m\u001b[0;34m)\u001b[0m\u001b[0;34m\u001b[0m\u001b[0;34m\u001b[0m\u001b[0m\n\u001b[0;32m--> 304\u001b[0;31m     \u001b[0mp\u001b[0m \u001b[0;34m=\u001b[0m \u001b[0msre_compile\u001b[0m\u001b[0;34m.\u001b[0m\u001b[0mcompile\u001b[0m\u001b[0;34m(\u001b[0m\u001b[0mpattern\u001b[0m\u001b[0;34m,\u001b[0m \u001b[0mflags\u001b[0m\u001b[0;34m)\u001b[0m\u001b[0;34m\u001b[0m\u001b[0;34m\u001b[0m\u001b[0m\n\u001b[0m\u001b[1;32m    305\u001b[0m     \u001b[0;32mif\u001b[0m \u001b[0;32mnot\u001b[0m \u001b[0;34m(\u001b[0m\u001b[0mflags\u001b[0m \u001b[0;34m&\u001b[0m \u001b[0mDEBUG\u001b[0m\u001b[0;34m)\u001b[0m\u001b[0;34m:\u001b[0m\u001b[0;34m\u001b[0m\u001b[0;34m\u001b[0m\u001b[0m\n\u001b[1;32m    306\u001b[0m         \u001b[0;32mif\u001b[0m \u001b[0mlen\u001b[0m\u001b[0;34m(\u001b[0m\u001b[0m_cache\u001b[0m\u001b[0;34m)\u001b[0m \u001b[0;34m>=\u001b[0m \u001b[0m_MAXCACHE\u001b[0m\u001b[0;34m:\u001b[0m\u001b[0;34m\u001b[0m\u001b[0;34m\u001b[0m\u001b[0m\n",
      "\u001b[0;32m~/opt/anaconda3/lib/python3.9/sre_compile.py\u001b[0m in \u001b[0;36mcompile\u001b[0;34m(p, flags)\u001b[0m\n\u001b[1;32m    786\u001b[0m     \u001b[0;32mif\u001b[0m \u001b[0misstring\u001b[0m\u001b[0;34m(\u001b[0m\u001b[0mp\u001b[0m\u001b[0;34m)\u001b[0m\u001b[0;34m:\u001b[0m\u001b[0;34m\u001b[0m\u001b[0;34m\u001b[0m\u001b[0m\n\u001b[1;32m    787\u001b[0m         \u001b[0mpattern\u001b[0m \u001b[0;34m=\u001b[0m \u001b[0mp\u001b[0m\u001b[0;34m\u001b[0m\u001b[0;34m\u001b[0m\u001b[0m\n\u001b[0;32m--> 788\u001b[0;31m         \u001b[0mp\u001b[0m \u001b[0;34m=\u001b[0m \u001b[0msre_parse\u001b[0m\u001b[0;34m.\u001b[0m\u001b[0mparse\u001b[0m\u001b[0;34m(\u001b[0m\u001b[0mp\u001b[0m\u001b[0;34m,\u001b[0m \u001b[0mflags\u001b[0m\u001b[0;34m)\u001b[0m\u001b[0;34m\u001b[0m\u001b[0;34m\u001b[0m\u001b[0m\n\u001b[0m\u001b[1;32m    789\u001b[0m     \u001b[0;32melse\u001b[0m\u001b[0;34m:\u001b[0m\u001b[0;34m\u001b[0m\u001b[0;34m\u001b[0m\u001b[0m\n\u001b[1;32m    790\u001b[0m         \u001b[0mpattern\u001b[0m \u001b[0;34m=\u001b[0m \u001b[0;32mNone\u001b[0m\u001b[0;34m\u001b[0m\u001b[0;34m\u001b[0m\u001b[0m\n",
      "\u001b[0;32m~/opt/anaconda3/lib/python3.9/sre_parse.py\u001b[0m in \u001b[0;36mparse\u001b[0;34m(str, flags, state)\u001b[0m\n\u001b[1;32m    953\u001b[0m \u001b[0;34m\u001b[0m\u001b[0m\n\u001b[1;32m    954\u001b[0m     \u001b[0;32mtry\u001b[0m\u001b[0;34m:\u001b[0m\u001b[0;34m\u001b[0m\u001b[0;34m\u001b[0m\u001b[0m\n\u001b[0;32m--> 955\u001b[0;31m         \u001b[0mp\u001b[0m \u001b[0;34m=\u001b[0m \u001b[0m_parse_sub\u001b[0m\u001b[0;34m(\u001b[0m\u001b[0msource\u001b[0m\u001b[0;34m,\u001b[0m \u001b[0mstate\u001b[0m\u001b[0;34m,\u001b[0m \u001b[0mflags\u001b[0m \u001b[0;34m&\u001b[0m \u001b[0mSRE_FLAG_VERBOSE\u001b[0m\u001b[0;34m,\u001b[0m \u001b[0;36m0\u001b[0m\u001b[0;34m)\u001b[0m\u001b[0;34m\u001b[0m\u001b[0;34m\u001b[0m\u001b[0m\n\u001b[0m\u001b[1;32m    956\u001b[0m     \u001b[0;32mexcept\u001b[0m \u001b[0mVerbose\u001b[0m\u001b[0;34m:\u001b[0m\u001b[0;34m\u001b[0m\u001b[0;34m\u001b[0m\u001b[0m\n\u001b[1;32m    957\u001b[0m         \u001b[0;31m# the VERBOSE flag was switched on inside the pattern.  to be\u001b[0m\u001b[0;34m\u001b[0m\u001b[0;34m\u001b[0m\u001b[0m\n",
      "\u001b[0;32m~/opt/anaconda3/lib/python3.9/sre_parse.py\u001b[0m in \u001b[0;36m_parse_sub\u001b[0;34m(source, state, verbose, nested)\u001b[0m\n\u001b[1;32m    442\u001b[0m     \u001b[0mstart\u001b[0m \u001b[0;34m=\u001b[0m \u001b[0msource\u001b[0m\u001b[0;34m.\u001b[0m\u001b[0mtell\u001b[0m\u001b[0;34m(\u001b[0m\u001b[0;34m)\u001b[0m\u001b[0;34m\u001b[0m\u001b[0;34m\u001b[0m\u001b[0m\n\u001b[1;32m    443\u001b[0m     \u001b[0;32mwhile\u001b[0m \u001b[0;32mTrue\u001b[0m\u001b[0;34m:\u001b[0m\u001b[0;34m\u001b[0m\u001b[0;34m\u001b[0m\u001b[0m\n\u001b[0;32m--> 444\u001b[0;31m         itemsappend(_parse(source, state, verbose, nested + 1,\n\u001b[0m\u001b[1;32m    445\u001b[0m                            not nested and not items))\n\u001b[1;32m    446\u001b[0m         \u001b[0;32mif\u001b[0m \u001b[0;32mnot\u001b[0m \u001b[0msourcematch\u001b[0m\u001b[0;34m(\u001b[0m\u001b[0;34m\"|\"\u001b[0m\u001b[0;34m)\u001b[0m\u001b[0;34m:\u001b[0m\u001b[0;34m\u001b[0m\u001b[0;34m\u001b[0m\u001b[0m\n",
      "\u001b[0;32m~/opt/anaconda3/lib/python3.9/sre_parse.py\u001b[0m in \u001b[0;36m_parse\u001b[0;34m(source, state, verbose, nested, first)\u001b[0m\n\u001b[1;32m    828\u001b[0m                     \u001b[0mgroup\u001b[0m \u001b[0;34m=\u001b[0m \u001b[0;32mNone\u001b[0m\u001b[0;34m\u001b[0m\u001b[0;34m\u001b[0m\u001b[0m\n\u001b[1;32m    829\u001b[0m                 \u001b[0;32melse\u001b[0m\u001b[0;34m:\u001b[0m\u001b[0;34m\u001b[0m\u001b[0;34m\u001b[0m\u001b[0m\n\u001b[0;32m--> 830\u001b[0;31m                     raise source.error(\"unknown extension ?\" + char,\n\u001b[0m\u001b[1;32m    831\u001b[0m                                        len(char) + 1)\n\u001b[1;32m    832\u001b[0m \u001b[0;34m\u001b[0m\u001b[0m\n",
      "\u001b[0;31merror\u001b[0m: unknown extension ?\\d at position 16"
     ]
    }
   ],
   "source": [
    "for phone_num in phone_list:\n",
    "    print(re.search(r'^(\\+\\d{1,3}\\s)?(?\\d{3}\\)?[\\s.-]\\d{3}[\\s.-]\\d{4}$', phone_num))"
   ]
  },
  {
   "cell_type": "markdown",
   "id": "461e81cd-493d-48e7-8c63-372fdd3d06a3",
   "metadata": {
    "tags": []
   },
   "source": [
    "Use regular expressions to convert the dates below to the standardized year-month-day format.\n",
    "\n",
    "\n",
    "- 02/04/19\n",
    "- 02/05/19\n",
    "- 02/06/19\n",
    "- 02/07/19\n",
    "- 02/08/19\n",
    "- 02/09/19\n",
    "- 02/10/19"
   ]
  },
  {
   "cell_type": "code",
   "execution_count": 68,
   "id": "eb948d48-d973-49d5-9923-2acf40883bfe",
   "metadata": {},
   "outputs": [],
   "source": [
    "dates_list = ['02/04/19', '02/05/19', '02/06/19', '02/07/19', '02/08/19', '02/09/19', '02/10/19']"
   ]
  },
  {
   "cell_type": "code",
   "execution_count": null,
   "id": "78211489-8909-4e29-84bf-15c1c86a1ab8",
   "metadata": {},
   "outputs": [],
   "source": [
    "for date in dates_list:\n",
    "    print(re.search(r'"
   ]
  },
  {
   "cell_type": "code",
   "execution_count": null,
   "id": "5997dded-4d8d-453f-b8dc-d8653d7d3d11",
   "metadata": {},
   "outputs": [],
   "source": []
  },
  {
   "cell_type": "markdown",
   "id": "cfda6e7a-36f5-463e-8810-a3fef4427f42",
   "metadata": {
    "tags": []
   },
   "source": [
    "Write a regex to extract the various parts of these logfile lines:\n",
    "\n",
    "\n",
    "GET /api/v1/sales?page=86 [16/Apr/2019:193452+0000] HTTP/1.1 {200} 510348 \"python-requests/2.21.0\" 97.105.19.58\n",
    "\n",
    "POST /users_accounts/file-upload [16/Apr/2019:193452+0000] HTTP/1.1 {201} 42 \"User-Agent: Mozilla/5.0 (X11; Fedora; Fedora; Linux x86_64) AppleWebKit/537.36 (KHTML, like Gecko) Chrome/73.0.3683.86 Safari/537.36\" 97.105.19.58\n",
    "\n",
    "GET /api/v1/items?page=3 [16/Apr/2019:193453+0000] HTTP/1.1 {429} 3561 \"python-requests/2.21.0\" 97.105.19.58"
   ]
  },
  {
   "cell_type": "code",
   "execution_count": null,
   "id": "bf759199-4a70-4519-9dfe-7dfbe6f8bbde",
   "metadata": {},
   "outputs": [],
   "source": []
  },
  {
   "cell_type": "markdown",
   "id": "7c0d3cba-45eb-4a9a-aba7-ddcad7e8285e",
   "metadata": {
    "tags": []
   },
   "source": [
    "Bonus Exercise\n",
    "\n",
    "You can find a list of words on your mac at /usr/share/dict/words. Use this file to answer the following questions:\n",
    "\n",
    "\n",
    "- How many words have at least 3 vowels?\n",
    "- How many words have at least 3 vowels in a row?\n",
    "- How many words have at least 4 consonants in a row?\n",
    "- How many words start and end with the same letter?\n",
    "- How many words start and end with a vowel?\n",
    "- How many words contain the same letter 3 times in a row?\n",
    "- What other interesting patterns in words can you find?"
   ]
  }
 ],
 "metadata": {
  "kernelspec": {
   "display_name": "Python 3 (ipykernel)",
   "language": "python",
   "name": "python3"
  },
  "language_info": {
   "codemirror_mode": {
    "name": "ipython",
    "version": 3
   },
   "file_extension": ".py",
   "mimetype": "text/x-python",
   "name": "python",
   "nbconvert_exporter": "python",
   "pygments_lexer": "ipython3",
   "version": "3.9.15"
  },
  "vscode": {
   "interpreter": {
    "hash": "aee8b7b246df8f9039afb4144a1f6fd8d2ca17a180786b69acc140d282b71a49"
   }
  }
 },
 "nbformat": 4,
 "nbformat_minor": 5
}
