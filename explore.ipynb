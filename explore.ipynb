{
 "cells": [
  {
   "cell_type": "code",
   "execution_count": 1,
   "id": "d1671389-b836-4730-8a76-83526740f5c8",
   "metadata": {
    "tags": []
   },
   "outputs": [],
   "source": [
    "from wordcloud import WordCloud\n",
    "import re\n",
    "import unicodedata\n",
    "import pandas as pd\n",
    "import nltk\n",
    "import requests\n",
    "import os\n",
    "import json\n",
    "from nltk.corpus import stopwords\n",
    "from nltk.tokenize.toktok import ToktokTokenizer\n",
    "\n",
    "import matplotlib.pyplot as plt\n",
    "import seaborn as sns\n",
    "\n",
    "from env import get_connection\n",
    "from prepare_nlp import *\n",
    "from acquire_news_articles import *"
   ]
  },
  {
   "cell_type": "code",
   "execution_count": 2,
   "id": "e47664d7-d8df-40a8-852f-98f34813d6ef",
   "metadata": {},
   "outputs": [],
   "source": [
    "df = get_spam_df()"
   ]
  },
  {
   "cell_type": "code",
   "execution_count": 3,
   "id": "923077db-abc2-48cc-a764-ff394ae2602a",
   "metadata": {},
   "outputs": [
    {
     "data": {
      "text/html": [
       "<div>\n",
       "<style scoped>\n",
       "    .dataframe tbody tr th:only-of-type {\n",
       "        vertical-align: middle;\n",
       "    }\n",
       "\n",
       "    .dataframe tbody tr th {\n",
       "        vertical-align: top;\n",
       "    }\n",
       "\n",
       "    .dataframe thead th {\n",
       "        text-align: right;\n",
       "    }\n",
       "</style>\n",
       "<table border=\"1\" class=\"dataframe\">\n",
       "  <thead>\n",
       "    <tr style=\"text-align: right;\">\n",
       "      <th></th>\n",
       "      <th>label</th>\n",
       "      <th>text</th>\n",
       "    </tr>\n",
       "    <tr>\n",
       "      <th>id</th>\n",
       "      <th></th>\n",
       "      <th></th>\n",
       "    </tr>\n",
       "  </thead>\n",
       "  <tbody>\n",
       "    <tr>\n",
       "      <th>0</th>\n",
       "      <td>ham</td>\n",
       "      <td>Go until jurong point, crazy.. Available only ...</td>\n",
       "    </tr>\n",
       "    <tr>\n",
       "      <th>1</th>\n",
       "      <td>ham</td>\n",
       "      <td>Ok lar... Joking wif u oni...</td>\n",
       "    </tr>\n",
       "    <tr>\n",
       "      <th>2</th>\n",
       "      <td>spam</td>\n",
       "      <td>Free entry in 2 a wkly comp to win FA Cup fina...</td>\n",
       "    </tr>\n",
       "    <tr>\n",
       "      <th>3</th>\n",
       "      <td>ham</td>\n",
       "      <td>U dun say so early hor... U c already then say...</td>\n",
       "    </tr>\n",
       "    <tr>\n",
       "      <th>4</th>\n",
       "      <td>ham</td>\n",
       "      <td>Nah I don't think he goes to usf, he lives aro...</td>\n",
       "    </tr>\n",
       "  </tbody>\n",
       "</table>\n",
       "</div>"
      ],
      "text/plain": [
       "   label                                               text\n",
       "id                                                         \n",
       "0    ham  Go until jurong point, crazy.. Available only ...\n",
       "1    ham                      Ok lar... Joking wif u oni...\n",
       "2   spam  Free entry in 2 a wkly comp to win FA Cup fina...\n",
       "3    ham  U dun say so early hor... U c already then say...\n",
       "4    ham  Nah I don't think he goes to usf, he lives aro..."
      ]
     },
     "execution_count": 3,
     "metadata": {},
     "output_type": "execute_result"
    }
   ],
   "source": [
    "df.head()"
   ]
  },
  {
   "cell_type": "code",
   "execution_count": 4,
   "id": "b4d4c256-910c-4603-a791-57d1ebf97858",
   "metadata": {},
   "outputs": [],
   "source": [
    "more_stopwords = ['r', 'u', '2', 'ltgt']"
   ]
  },
  {
   "cell_type": "code",
   "execution_count": 5,
   "id": "60613c2d-0f4c-4afa-bd58-9f38a19a0efc",
   "metadata": {},
   "outputs": [],
   "source": [
    "origional_df = df.copy()"
   ]
  },
  {
   "cell_type": "code",
   "execution_count": 6,
   "id": "c82ad4e9-ccd9-4d2b-9e4d-1a265ab2f4c6",
   "metadata": {},
   "outputs": [],
   "source": [
    "df.text = df.text.apply(basic_clean)"
   ]
  },
  {
   "cell_type": "code",
   "execution_count": 7,
   "id": "40250000-86c4-4b7d-b32b-7deb6208b89f",
   "metadata": {},
   "outputs": [],
   "source": [
    "token_df = df.copy()"
   ]
  },
  {
   "cell_type": "code",
   "execution_count": 8,
   "id": "829e3e85-e62c-4899-9b24-79b748b8fb96",
   "metadata": {},
   "outputs": [],
   "source": [
    "token_df.text = token_df.text.apply(tokenized)"
   ]
  },
  {
   "cell_type": "code",
   "execution_count": 9,
   "id": "2e040961-6475-4f69-b10c-f44912f8ccd0",
   "metadata": {},
   "outputs": [
    {
     "data": {
      "text/html": [
       "<div>\n",
       "<style scoped>\n",
       "    .dataframe tbody tr th:only-of-type {\n",
       "        vertical-align: middle;\n",
       "    }\n",
       "\n",
       "    .dataframe tbody tr th {\n",
       "        vertical-align: top;\n",
       "    }\n",
       "\n",
       "    .dataframe thead th {\n",
       "        text-align: right;\n",
       "    }\n",
       "</style>\n",
       "<table border=\"1\" class=\"dataframe\">\n",
       "  <thead>\n",
       "    <tr style=\"text-align: right;\">\n",
       "      <th></th>\n",
       "      <th>label</th>\n",
       "      <th>text</th>\n",
       "    </tr>\n",
       "    <tr>\n",
       "      <th>id</th>\n",
       "      <th></th>\n",
       "      <th></th>\n",
       "    </tr>\n",
       "  </thead>\n",
       "  <tbody>\n",
       "    <tr>\n",
       "      <th>0</th>\n",
       "      <td>ham</td>\n",
       "      <td>go until jurong point crazy available only in ...</td>\n",
       "    </tr>\n",
       "    <tr>\n",
       "      <th>1</th>\n",
       "      <td>ham</td>\n",
       "      <td>ok lar joking wif u oni</td>\n",
       "    </tr>\n",
       "    <tr>\n",
       "      <th>2</th>\n",
       "      <td>spam</td>\n",
       "      <td>free entry in 2 a wkly comp to win fa cup fina...</td>\n",
       "    </tr>\n",
       "    <tr>\n",
       "      <th>3</th>\n",
       "      <td>ham</td>\n",
       "      <td>u dun say so early hor u c already then say</td>\n",
       "    </tr>\n",
       "    <tr>\n",
       "      <th>4</th>\n",
       "      <td>ham</td>\n",
       "      <td>nah i don ' t think he goes to usf he lives ar...</td>\n",
       "    </tr>\n",
       "  </tbody>\n",
       "</table>\n",
       "</div>"
      ],
      "text/plain": [
       "   label                                               text\n",
       "id                                                         \n",
       "0    ham  go until jurong point crazy available only in ...\n",
       "1    ham                            ok lar joking wif u oni\n",
       "2   spam  free entry in 2 a wkly comp to win fa cup fina...\n",
       "3    ham        u dun say so early hor u c already then say\n",
       "4    ham  nah i don ' t think he goes to usf he lives ar..."
      ]
     },
     "execution_count": 9,
     "metadata": {},
     "output_type": "execute_result"
    }
   ],
   "source": [
    "token_df.head()"
   ]
  },
  {
   "cell_type": "code",
   "execution_count": 10,
   "id": "ebe5a4cc-55c2-4cd8-8029-910385cc7c37",
   "metadata": {},
   "outputs": [],
   "source": [
    "stem_df = token_df.copy()"
   ]
  },
  {
   "cell_type": "code",
   "execution_count": 11,
   "id": "003c61cf-71c4-4039-a803-3230c2094ea2",
   "metadata": {},
   "outputs": [],
   "source": [
    "lemm_df = token_df.copy()"
   ]
  },
  {
   "cell_type": "code",
   "execution_count": 12,
   "id": "8a64c739-1098-4597-91b7-a0b493139be3",
   "metadata": {},
   "outputs": [],
   "source": [
    "stem_df.text = stem_df.text.apply(stems)"
   ]
  },
  {
   "cell_type": "code",
   "execution_count": 13,
   "id": "da51144e-3a06-4d77-ac8e-92848767cea8",
   "metadata": {},
   "outputs": [],
   "source": [
    "lemm_df['text'] = lemm_df['text'].apply(lemmatized)"
   ]
  },
  {
   "cell_type": "code",
   "execution_count": 14,
   "id": "b71cdf07-99ac-4e61-ad7a-cae62fc86e14",
   "metadata": {},
   "outputs": [],
   "source": [
    "stem_no_swords = stem_df.copy()\n",
    "lemm_no_swords = lemm_df.copy()"
   ]
  },
  {
   "cell_type": "code",
   "execution_count": 15,
   "id": "32e83eca-7e6e-4179-abea-9500fd85aff3",
   "metadata": {},
   "outputs": [],
   "source": [
    "stem_no_swords.text = stem_no_swords.text.apply(remove_stopwords, extra_words = more_stopwords)"
   ]
  },
  {
   "cell_type": "code",
   "execution_count": 16,
   "id": "f98ac023-63e9-4abb-8f72-2388b09913e4",
   "metadata": {},
   "outputs": [],
   "source": [
    "lemm_no_swords.text = lemm_no_swords.text.apply(remove_stopwords, extra_words = more_stopwords)"
   ]
  },
  {
   "cell_type": "markdown",
   "id": "b6bf089d-0bee-4be3-892f-a7374f08461c",
   "metadata": {},
   "source": [
    "### Word Cloud"
   ]
  },
  {
   "cell_type": "code",
   "execution_count": 17,
   "id": "505663c1-6dc3-42f3-9e03-ae5d6df49023",
   "metadata": {},
   "outputs": [
    {
     "data": {
      "text/plain": [
       "(-0.5, 399.5, 199.5, -0.5)"
      ]
     },
     "execution_count": 17,
     "metadata": {},
     "output_type": "execute_result"
    },
    {
     "data": {
      "image/png": "[encoded data removed]",
      "text/plain": [
       "<Figure size 640x480 with 1 Axes>"
      ]
     },
     "metadata": {},
     "output_type": "display_data"
    }
   ],
   "source": [
    "img = WordCloud(background_color='white').generate(stem_no_swords.text[0])\n",
    "# WordCloud() produces an image object, which can be displayed with plt.imshow\n",
    "plt.imshow(img)\n",
    "# axis aren't very useful for a word cloud\n",
    "plt.axis('off')"
   ]
  },
  {
   "cell_type": "markdown",
   "id": "04da5358-111f-4164-8abe-292aaf634354",
   "metadata": {},
   "source": [
    "### N_Grams"
   ]
  },
  {
   "cell_type": "code",
   "execution_count": 18,
   "id": "09002d38-2a09-4100-bafb-62b69510e27d",
   "metadata": {},
   "outputs": [],
   "source": [
    "def ngrams_creator(input_list, n_grams = 2):\n",
    "    \"\"\"\n",
    "    This function takes in a string and returns a list of grams.\n",
    "    \"\"\"\n",
    "    ngrams = nltk.ngrams(input_list, n_grams)\n",
    "    return list(ngrams)"
   ]
  },
  {
   "cell_type": "code",
   "execution_count": 19,
   "id": "0b358f64-527b-4e4d-9a38-31d4861ea6b7",
   "metadata": {},
   "outputs": [],
   "source": [
    "def panda_grams(df, n_grams=2):\n",
    "    \"\"\"\n",
    "    This function applies the ngrams_creator function to every column in a DataFrame.\n",
    "    \"\"\"\n",
    "    for col in df:\n",
    "        df[col] = df[col].apply(ngrams_creator, n_grams=n_grams)\n",
    "    return df"
   ]
  },
  {
   "cell_type": "code",
   "execution_count": 20,
   "id": "57f9864d-e1cb-44ff-933a-a34a74772eb4",
   "metadata": {},
   "outputs": [
    {
     "data": {
      "text/plain": [
       "'go jurong point crazi avail onli bugi n great world la e buffet cine got amor wat'"
      ]
     },
     "execution_count": 20,
     "metadata": {},
     "output_type": "execute_result"
    }
   ],
   "source": [
    "stem_no_swords.text[0]"
   ]
  },
  {
   "cell_type": "markdown",
   "id": "2ec6b21f-e6a7-4f09-b23c-f36c2de15c8b",
   "metadata": {},
   "source": [
    "#### Combining all strings into list of words"
   ]
  },
  {
   "cell_type": "code",
   "execution_count": 21,
   "id": "156e6786-183e-40b0-8be0-938d45595b39",
   "metadata": {},
   "outputs": [],
   "source": [
    "stem_ham_words = stem_no_swords[stem_no_swords.label == 'ham'].text"
   ]
  },
  {
   "cell_type": "code",
   "execution_count": 22,
   "id": "192b281f-adfb-496b-b3e0-9d2daf716dc9",
   "metadata": {},
   "outputs": [],
   "source": [
    "lemm_ham_words = lemm_no_swords[lemm_no_swords.label == 'ham'].text"
   ]
  },
  {
   "cell_type": "code",
   "execution_count": 23,
   "id": "0c02eae1-5bcc-44a5-b165-956378aa1921",
   "metadata": {},
   "outputs": [],
   "source": [
    "stem_spam_words = stem_no_swords[stem_no_swords.label == 'spam'].text"
   ]
  },
  {
   "cell_type": "code",
   "execution_count": 24,
   "id": "cfe0637b-1bbe-44a9-80e7-eb9b786c9868",
   "metadata": {},
   "outputs": [],
   "source": [
    "lemm_spam_words = lemm_no_swords[lemm_no_swords.label == 'spam'].text"
   ]
  },
  {
   "cell_type": "code",
   "execution_count": 25,
   "id": "a804c734-bdcc-47f6-b979-5eaaeb3a5b81",
   "metadata": {},
   "outputs": [],
   "source": [
    "stem_ham_list = []\n",
    "for row in stem_ham_words:\n",
    "    stem_ham_list.extend(row.split())"
   ]
  },
  {
   "cell_type": "code",
   "execution_count": 26,
   "id": "fa8367ed-4c96-4448-8bb3-51f6d5cd350a",
   "metadata": {},
   "outputs": [],
   "source": [
    "stem_spam_list = []\n",
    "for row in stem_spam_words:\n",
    "    stem_spam_list.extend(row.split())"
   ]
  },
  {
   "cell_type": "code",
   "execution_count": 27,
   "id": "2e7f3407-a0ec-4980-85dc-8256976b5a97",
   "metadata": {},
   "outputs": [],
   "source": [
    "lemm_ham_list = []\n",
    "for row in lemm_ham_words:\n",
    "    lemm_ham_list.extend(row.split())"
   ]
  },
  {
   "cell_type": "code",
   "execution_count": 28,
   "id": "bb3a20f9-64f4-4d78-9ca0-ef0785a48346",
   "metadata": {},
   "outputs": [],
   "source": [
    "lemm_spam_list = []\n",
    "for row in lemm_spam_words:\n",
    "    lemm_spam_list.extend(row.split())"
   ]
  },
  {
   "cell_type": "code",
   "execution_count": 29,
   "id": "69455917-aa43-4a50-86d0-248c10ac1a60",
   "metadata": {},
   "outputs": [],
   "source": [
    "stem_ham_grams = ngrams_creator(stem_ham_list)"
   ]
  },
  {
   "cell_type": "code",
   "execution_count": 30,
   "id": "85ba8f2f-7b26-4bb3-802d-cc3af4b028fa",
   "metadata": {},
   "outputs": [],
   "source": [
    "stem_spam_grams = ngrams_creator(stem_spam_list)"
   ]
  },
  {
   "cell_type": "code",
   "execution_count": 31,
   "id": "22c6be47-b5ce-42b5-8088-e16312b598e7",
   "metadata": {},
   "outputs": [],
   "source": [
    "lemm_ham_grams = ngrams_creator(lemm_ham_list)"
   ]
  },
  {
   "cell_type": "code",
   "execution_count": 32,
   "id": "c3ee820f-7cec-4661-b577-8dadc88f1d0d",
   "metadata": {},
   "outputs": [],
   "source": [
    "lemm_spam_grams = ngrams_creator(lemm_spam_list)"
   ]
  },
  {
   "cell_type": "code",
   "execution_count": 33,
   "id": "8830dd7f-cf07-41e8-8f45-f33efe936749",
   "metadata": {},
   "outputs": [
    {
     "data": {
      "text/plain": [
       "[('go', 'jurong'),\n",
       " ('jurong', 'point'),\n",
       " ('point', 'crazi'),\n",
       " ('crazi', 'avail'),\n",
       " ('avail', 'onli')]"
      ]
     },
     "execution_count": 33,
     "metadata": {},
     "output_type": "execute_result"
    }
   ],
   "source": [
    "stem_ham_grams[:5]"
   ]
  },
  {
   "cell_type": "code",
   "execution_count": 34,
   "id": "6be6b402-01a9-481d-8880-5c4f21c04260",
   "metadata": {},
   "outputs": [
    {
     "data": {
      "text/plain": [
       "[('free', 'entri'),\n",
       " ('entri', 'wkli'),\n",
       " ('wkli', 'comp'),\n",
       " ('comp', 'win'),\n",
       " ('win', 'fa')]"
      ]
     },
     "execution_count": 34,
     "metadata": {},
     "output_type": "execute_result"
    }
   ],
   "source": [
    "stem_spam_grams[:5]"
   ]
  },
  {
   "cell_type": "code",
   "execution_count": 35,
   "id": "fd609623-5c1e-49ee-a415-82c1a9eeeafe",
   "metadata": {},
   "outputs": [
    {
     "data": {
      "text/plain": [
       "[('go', 'jurong'),\n",
       " ('jurong', 'point'),\n",
       " ('point', 'crazy'),\n",
       " ('crazy', 'available'),\n",
       " ('available', 'bugis'),\n",
       " ('bugis', 'n'),\n",
       " ('n', 'great'),\n",
       " ('great', 'world'),\n",
       " ('world', 'la'),\n",
       " ('la', 'e')]"
      ]
     },
     "execution_count": 35,
     "metadata": {},
     "output_type": "execute_result"
    }
   ],
   "source": [
    "lemm_ham_grams[:10]"
   ]
  },
  {
   "cell_type": "code",
   "execution_count": 36,
   "id": "eb33f4cf-5d9d-4db7-9655-2831331104e3",
   "metadata": {},
   "outputs": [
    {
     "data": {
      "text/plain": [
       "[('free', 'entry'),\n",
       " ('entry', 'wkly'),\n",
       " ('wkly', 'comp'),\n",
       " ('comp', 'win'),\n",
       " ('win', 'fa'),\n",
       " ('fa', 'cup'),\n",
       " ('cup', 'final'),\n",
       " ('final', 'tkts'),\n",
       " ('tkts', '21st'),\n",
       " ('21st', 'may')]"
      ]
     },
     "execution_count": 36,
     "metadata": {},
     "output_type": "execute_result"
    }
   ],
   "source": [
    "lemm_spam_grams[:10]"
   ]
  },
  {
   "cell_type": "markdown",
   "id": "5dc6b0b5-2c49-4bc6-9023-bacd28a0bfea",
   "metadata": {},
   "source": [
    "# Create a function for above\n",
    "- Order of operations matter. Make sure n_grams are created for each string/row, then joined."
   ]
  },
  {
   "cell_type": "markdown",
   "id": "42316da4-beda-4ddf-b324-8407b1fd0782",
   "metadata": {},
   "source": [
    "## 1. Spam Data\n",
    "\n",
    "Load the spam data set.\n",
    "- Done\n",
    "\n",
    "Create and explore bigrams for the spam data. Visualize them with a word cloud. How do they compare with the ham bigrams?\n",
    "- Word clouds = Bad\n",
    "- bi_grams = Good\n",
    "\n",
    "Is there any overlap in the bigrams for the spam data and the ham data?\n",
    "- I did not see any"
   ]
  },
  {
   "cell_type": "markdown",
   "id": "025f1fab-f311-49b5-96e2-df7710716534",
   "metadata": {},
   "source": [
    "Create and explore with trigrams (i.e. a n-gram with an n of 3) for both the spam and ham data."
   ]
  },
  {
   "cell_type": "markdown",
   "id": "deb60cbe-0255-4c9c-b211-6ad896d8258a",
   "metadata": {},
   "source": [
    "The order seems wrong. It is creating n_grams off a list versus individual strings."
   ]
  },
  {
   "cell_type": "code",
   "execution_count": 37,
   "id": "e5cf2215-315e-4bdf-aedb-f0f903ad3755",
   "metadata": {},
   "outputs": [],
   "source": [
    "lemm_ham_trigrams = ngrams_creator(lemm_ham_list, n_grams = 3)"
   ]
  },
  {
   "cell_type": "code",
   "execution_count": 38,
   "id": "f9661e04-493d-4080-9df5-ffeae1cbc539",
   "metadata": {},
   "outputs": [],
   "source": [
    "lemm_spam_trigrams = ngrams_creator(lemm_spam_list, n_grams = 3)"
   ]
  },
  {
   "cell_type": "code",
   "execution_count": 39,
   "id": "5510818c-21f0-4e62-88ee-11e15474d178",
   "metadata": {},
   "outputs": [
    {
     "data": {
      "text/plain": [
       "[('go', 'jurong', 'point'),\n",
       " ('jurong', 'point', 'crazy'),\n",
       " ('point', 'crazy', 'available'),\n",
       " ('crazy', 'available', 'bugis'),\n",
       " ('available', 'bugis', 'n'),\n",
       " ('bugis', 'n', 'great'),\n",
       " ('n', 'great', 'world'),\n",
       " ('great', 'world', 'la'),\n",
       " ('world', 'la', 'e'),\n",
       " ('la', 'e', 'buffet')]"
      ]
     },
     "execution_count": 39,
     "metadata": {},
     "output_type": "execute_result"
    }
   ],
   "source": [
    "lemm_ham_trigrams[:10]"
   ]
  },
  {
   "cell_type": "code",
   "execution_count": 40,
   "id": "0a44eff6-9893-4d86-bb9c-9cc54172be46",
   "metadata": {},
   "outputs": [
    {
     "data": {
      "text/plain": [
       "[('free', 'entry', 'wkly'),\n",
       " ('entry', 'wkly', 'comp'),\n",
       " ('wkly', 'comp', 'win'),\n",
       " ('comp', 'win', 'fa'),\n",
       " ('win', 'fa', 'cup'),\n",
       " ('fa', 'cup', 'final'),\n",
       " ('cup', 'final', 'tkts'),\n",
       " ('final', 'tkts', '21st'),\n",
       " ('tkts', '21st', 'may'),\n",
       " ('21st', 'may', '2005')]"
      ]
     },
     "execution_count": 40,
     "metadata": {},
     "output_type": "execute_result"
    }
   ],
   "source": [
    "lemm_spam_trigrams[:10]"
   ]
  },
  {
   "cell_type": "markdown",
   "id": "f0b8a7dd-6a59-4157-a77b-e189f9d5308e",
   "metadata": {},
   "source": [
    "# The order seems wrong. It is creating n_grams off a list versus individual strings."
   ]
  },
  {
   "cell_type": "markdown",
   "id": "2b49727b-36e1-49dd-9caa-c9dee001b7ef",
   "metadata": {},
   "source": [
    "## 2. Explore the blog articles using the techniques discussed in the exploration lesson."
   ]
  },
  {
   "cell_type": "code",
   "execution_count": 41,
   "id": "ad37189a-316f-4013-ab8f-0e5d165a0eed",
   "metadata": {},
   "outputs": [],
   "source": [
    "headers = {'User-Agent': 'Codeup Data Science'}"
   ]
  },
  {
   "cell_type": "code",
   "execution_count": 42,
   "id": "169ffa6f-e4e4-4857-827b-4a2e7aabdffc",
   "metadata": {},
   "outputs": [],
   "source": [
    "#Scrape blog homepage for links\n",
    "url = 'https://codeup.com/blog/'\n",
    "\n",
    "response = get(url, headers=headers)\n",
    "\n",
    "soup = BeautifulSoup(response.content, 'html.parser')\n",
    "\n",
    "more_links = soup.find_all('a', class_='more-link')"
   ]
  },
  {
   "cell_type": "code",
   "execution_count": 43,
   "id": "4b0789a9-ce88-4ad9-be3a-93efdb99757b",
   "metadata": {},
   "outputs": [],
   "source": [
    "#Extract the links into something I can use\n",
    "links_list = [link['href'] for link in more_links]"
   ]
  },
  {
   "cell_type": "code",
   "execution_count": 44,
   "id": "47a513cb-78d0-468c-9c6b-2d884bb84b4e",
   "metadata": {},
   "outputs": [
    {
     "data": {
      "text/plain": [
       "['https://codeup.com/codeup-news/panelist-spotlight-4/',\n",
       " 'https://codeup.com/events/black-excellence-in-tech-panelist-spotlight-stephanie-jones/',\n",
       " 'https://codeup.com/events/black-excellence-in-tech-panelist-spotlight-james-cooper/',\n",
       " 'https://codeup.com/events/black-excellence-in-tech-panelist-spotlight/',\n",
       " 'https://codeup.com/tips-for-prospective-students/coding-bootcamp-or-self-learning/',\n",
       " 'https://codeup.com/codeup-news/codeup-best-bootcamps/']"
      ]
     },
     "execution_count": 44,
     "metadata": {},
     "output_type": "execute_result"
    }
   ],
   "source": [
    "links_list"
   ]
  },
  {
   "cell_type": "code",
   "execution_count": 45,
   "id": "01785884-6585-43ab-a540-d138680c676a",
   "metadata": {},
   "outputs": [],
   "source": [
    "codeup_text = get_blog_articles(links_list)"
   ]
  },
  {
   "cell_type": "code",
   "execution_count": 46,
   "id": "153bdb66-80c1-40f0-9abb-962485bc6e07",
   "metadata": {},
   "outputs": [],
   "source": [
    "codeup_df = pd.DataFrame(codeup_text)"
   ]
  },
  {
   "cell_type": "code",
   "execution_count": 47,
   "id": "0aefad52-f176-4256-b6ca-cb5bdfef25e8",
   "metadata": {},
   "outputs": [
    {
     "data": {
      "text/html": [
       "<div>\n",
       "<style scoped>\n",
       "    .dataframe tbody tr th:only-of-type {\n",
       "        vertical-align: middle;\n",
       "    }\n",
       "\n",
       "    .dataframe tbody tr th {\n",
       "        vertical-align: top;\n",
       "    }\n",
       "\n",
       "    .dataframe thead th {\n",
       "        text-align: right;\n",
       "    }\n",
       "</style>\n",
       "<table border=\"1\" class=\"dataframe\">\n",
       "  <thead>\n",
       "    <tr style=\"text-align: right;\">\n",
       "      <th></th>\n",
       "      <th>title</th>\n",
       "      <th>link</th>\n",
       "      <th>date_published</th>\n",
       "      <th>content</th>\n",
       "    </tr>\n",
       "  </thead>\n",
       "  <tbody>\n",
       "    <tr>\n",
       "      <th>0</th>\n",
       "      <td>Black Excellence in Tech: Panelist Spotlight –...</td>\n",
       "      <td>https://codeup.com/codeup-news/panelist-spotli...</td>\n",
       "      <td>Feb 16, 2023</td>\n",
       "      <td>\\nBlack excellence in tech: Panelist Spotlight...</td>\n",
       "    </tr>\n",
       "    <tr>\n",
       "      <th>1</th>\n",
       "      <td>Black excellence in tech: Panelist Spotlight –...</td>\n",
       "      <td>https://codeup.com/events/black-excellence-in-...</td>\n",
       "      <td>Feb 13, 2023</td>\n",
       "      <td>\\nBlack excellence in tech: Panelist Spotlight...</td>\n",
       "    </tr>\n",
       "    <tr>\n",
       "      <th>2</th>\n",
       "      <td>Black excellence in tech: Panelist Spotlight –...</td>\n",
       "      <td>https://codeup.com/events/black-excellence-in-...</td>\n",
       "      <td>Feb 10, 2023</td>\n",
       "      <td>\\nBlack excellence in tech: Panelist Spotlight...</td>\n",
       "    </tr>\n",
       "    <tr>\n",
       "      <th>3</th>\n",
       "      <td>Black excellence in tech: Panelist Spotlight –...</td>\n",
       "      <td>https://codeup.com/events/black-excellence-in-...</td>\n",
       "      <td>Feb 6, 2023</td>\n",
       "      <td>\\nBlack excellence in tech: Panelist Spotlight...</td>\n",
       "    </tr>\n",
       "    <tr>\n",
       "      <th>4</th>\n",
       "      <td>Coding Bootcamp or Self-Learning? Which is Bes...</td>\n",
       "      <td>https://codeup.com/tips-for-prospective-studen...</td>\n",
       "      <td>Jan 20, 2023</td>\n",
       "      <td>\\nIf you’re interested in embarking on a caree...</td>\n",
       "    </tr>\n",
       "  </tbody>\n",
       "</table>\n",
       "</div>"
      ],
      "text/plain": [
       "                                               title  \\\n",
       "0  Black Excellence in Tech: Panelist Spotlight –...   \n",
       "1  Black excellence in tech: Panelist Spotlight –...   \n",
       "2  Black excellence in tech: Panelist Spotlight –...   \n",
       "3  Black excellence in tech: Panelist Spotlight –...   \n",
       "4  Coding Bootcamp or Self-Learning? Which is Bes...   \n",
       "\n",
       "                                                link date_published  \\\n",
       "0  https://codeup.com/codeup-news/panelist-spotli...   Feb 16, 2023   \n",
       "1  https://codeup.com/events/black-excellence-in-...   Feb 13, 2023   \n",
       "2  https://codeup.com/events/black-excellence-in-...   Feb 10, 2023   \n",
       "3  https://codeup.com/events/black-excellence-in-...    Feb 6, 2023   \n",
       "4  https://codeup.com/tips-for-prospective-studen...   Jan 20, 2023   \n",
       "\n",
       "                                             content  \n",
       "0  \\nBlack excellence in tech: Panelist Spotlight...  \n",
       "1  \\nBlack excellence in tech: Panelist Spotlight...  \n",
       "2  \\nBlack excellence in tech: Panelist Spotlight...  \n",
       "3  \\nBlack excellence in tech: Panelist Spotlight...  \n",
       "4  \\nIf you’re interested in embarking on a caree...  "
      ]
     },
     "execution_count": 47,
     "metadata": {},
     "output_type": "execute_result"
    }
   ],
   "source": [
    "codeup_df.head()"
   ]
  },
  {
   "cell_type": "code",
   "execution_count": 48,
   "id": "ffc374a7-6a97-4a82-8006-31c7b9f4c053",
   "metadata": {},
   "outputs": [],
   "source": [
    "codeup_df['content'] = codeup_df['content'].apply(basic_clean)"
   ]
  },
  {
   "cell_type": "code",
   "execution_count": 49,
   "id": "6ae11006-712b-4ede-b2c8-5c4d6c5fa893",
   "metadata": {},
   "outputs": [],
   "source": [
    "codeup_df['content'] = codeup_df['content'].apply(tokenized)"
   ]
  },
  {
   "cell_type": "code",
   "execution_count": 50,
   "id": "70076ad1-d44a-4cc1-8735-b5b261f2b669",
   "metadata": {},
   "outputs": [],
   "source": [
    "codeup_df['content'] = codeup_df['content'].apply(lemmatized)"
   ]
  },
  {
   "cell_type": "code",
   "execution_count": 51,
   "id": "5bcef492-4a0d-49d9-8a4a-22322a94eba3",
   "metadata": {},
   "outputs": [],
   "source": [
    "codeup_df['content'] = codeup_df['content'].apply(remove_stopwords)"
   ]
  },
  {
   "cell_type": "code",
   "execution_count": 52,
   "id": "036712f2-0270-4857-8419-eec679e3d49c",
   "metadata": {},
   "outputs": [],
   "source": [
    "codeup_df['content'] = codeup_df['content'].str.split()"
   ]
  },
  {
   "cell_type": "code",
   "execution_count": 53,
   "id": "eed2d8cb-c958-4e36-9976-8d0e06f8f33a",
   "metadata": {},
   "outputs": [
    {
     "data": {
      "text/plain": [
       "0    [(black, excellence), (excellence, tech), (tec...\n",
       "1    [(black, excellence), (excellence, tech), (tec...\n",
       "2    [(black, excellence), (excellence, tech), (tec...\n",
       "3    [(black, excellence), (excellence, tech), (tec...\n",
       "4    [(youre, interested), (interested, embarking),...\n",
       "5    [(codeup, pleased), (pleased, announce), (anno...\n",
       "Name: content, dtype: object"
      ]
     },
     "execution_count": 53,
     "metadata": {},
     "output_type": "execute_result"
    }
   ],
   "source": [
    "codeup_df['content'].apply(ngrams_creator)"
   ]
  },
  {
   "cell_type": "code",
   "execution_count": 54,
   "id": "5f8dd92f-aae6-45c2-9230-b62946e2f16f",
   "metadata": {},
   "outputs": [],
   "source": [
    "n_gram_list = []\n",
    "for row in codeup_df['content'].apply(ngrams_creator):\n",
    "    n_gram_list.extend(row)"
   ]
  },
  {
   "cell_type": "code",
   "execution_count": 55,
   "id": "99a5caea-71ed-4175-b8e6-97d916e2c144",
   "metadata": {},
   "outputs": [],
   "source": [
    "n_gram_series = pd.Series(n_gram_list)"
   ]
  },
  {
   "cell_type": "code",
   "execution_count": 56,
   "id": "81793211-53bf-47ac-ba14-a5de47d00840",
   "metadata": {},
   "outputs": [
    {
     "data": {
      "text/plain": [
       "(black, excellence)      9\n",
       "(coding, bootcamps)      9\n",
       "(excellence, tech)       9\n",
       "(course, report)         5\n",
       "(tech, industry)         5\n",
       "(tech, panel)            5\n",
       "(experience, black)      4\n",
       "(panelist, leading)      4\n",
       "(leading, discussion)    4\n",
       "(discussion, learn)      4\n",
       "dtype: int64"
      ]
     },
     "execution_count": 56,
     "metadata": {},
     "output_type": "execute_result"
    }
   ],
   "source": [
    "n_gram_series.value_counts().head(10)"
   ]
  },
  {
   "cell_type": "code",
   "execution_count": 57,
   "id": "f4d821c0-d08e-4549-9da9-d88faa857653",
   "metadata": {},
   "outputs": [],
   "source": [
    "tri_gram_list = []\n",
    "for row in codeup_df['content'].apply(ngrams_creator, n_grams=3):\n",
    "    tri_gram_list.extend(row)"
   ]
  },
  {
   "cell_type": "code",
   "execution_count": 58,
   "id": "0901521d-dc8d-483d-9918-a7695e57ccd4",
   "metadata": {},
   "outputs": [],
   "source": [
    "tri_gram_list = pd.Series(tri_gram_list)"
   ]
  },
  {
   "cell_type": "code",
   "execution_count": 59,
   "id": "9a2ed7c3-01f7-4457-9f53-00c02ff08192",
   "metadata": {},
   "outputs": [
    {
     "data": {
      "text/plain": [
       "(black, excellence, tech)          9\n",
       "(excellence, tech, panel)          5\n",
       "(2023, celebrate, wed)             4\n",
       "(wed, like, spotlight)             4\n",
       "(like, spotlight, panelist)        4\n",
       "(spotlight, panelist, leading)     4\n",
       "(panelist, leading, discussion)    4\n",
       "(leading, discussion, learn)       4\n",
       "(discussion, learn, bit)           4\n",
       "(learn, bit, respective)           4\n",
       "dtype: int64"
      ]
     },
     "execution_count": 59,
     "metadata": {},
     "output_type": "execute_result"
    }
   ],
   "source": [
    "tri_gram_list.value_counts().head(10)"
   ]
  },
  {
   "cell_type": "markdown",
   "id": "688180ed-0681-4e2b-a4c7-c4c9959e0321",
   "metadata": {},
   "source": [
    "## 3.Explore the news articles using the techniques discussed in the exploration lesson. Use the category variable when exploring."
   ]
  },
  {
   "cell_type": "code",
   "execution_count": 60,
   "id": "74d21681-4241-445e-832e-d166be727e34",
   "metadata": {},
   "outputs": [],
   "source": [
    "topic = ['business', 'sports' , 'technology', 'entertainment']"
   ]
  },
  {
   "cell_type": "code",
   "execution_count": 61,
   "id": "85e8f265-4b56-4369-b4f4-b9b116e7cff3",
   "metadata": {},
   "outputs": [],
   "source": [
    "articles = get_news_articles(topic) #Doesn't take list if json is in the same folder."
   ]
  },
  {
   "cell_type": "code",
   "execution_count": 62,
   "id": "841bd1a2-4b37-428c-b54d-a79467a16ecf",
   "metadata": {},
   "outputs": [],
   "source": [
    "articles = pd.DataFrame(articles)"
   ]
  },
  {
   "cell_type": "code",
   "execution_count": 63,
   "id": "ac359483-39b1-4319-be44-875fa3cdb42a",
   "metadata": {},
   "outputs": [
    {
     "data": {
      "text/html": [
       "<div>\n",
       "<style scoped>\n",
       "    .dataframe tbody tr th:only-of-type {\n",
       "        vertical-align: middle;\n",
       "    }\n",
       "\n",
       "    .dataframe tbody tr th {\n",
       "        vertical-align: top;\n",
       "    }\n",
       "\n",
       "    .dataframe thead th {\n",
       "        text-align: right;\n",
       "    }\n",
       "</style>\n",
       "<table border=\"1\" class=\"dataframe\">\n",
       "  <thead>\n",
       "    <tr style=\"text-align: right;\">\n",
       "      <th></th>\n",
       "      <th>category</th>\n",
       "      <th>title</th>\n",
       "      <th>content</th>\n",
       "    </tr>\n",
       "  </thead>\n",
       "  <tbody>\n",
       "    <tr>\n",
       "      <th>0</th>\n",
       "      <td>business</td>\n",
       "      <td>Sachin Tendulkar and his wife meet Bill Gates;...</td>\n",
       "      <td>Former cricketer Sachin Tendulkar and his wife...</td>\n",
       "    </tr>\n",
       "    <tr>\n",
       "      <th>1</th>\n",
       "      <td>business</td>\n",
       "      <td>'Best wishes to my classmate,' writes Gates in...</td>\n",
       "      <td>Businessman Anand Mahindra on Tuesday met Micr...</td>\n",
       "    </tr>\n",
       "    <tr>\n",
       "      <th>2</th>\n",
       "      <td>business</td>\n",
       "      <td>Ambanis should get Z+ security cover across In...</td>\n",
       "      <td>The Supreme Court on Tuesday stated that the Z...</td>\n",
       "    </tr>\n",
       "    <tr>\n",
       "      <th>3</th>\n",
       "      <td>business</td>\n",
       "      <td>People consuming 30 GB and paying almost nothi...</td>\n",
       "      <td>Bharti Airtel is looking to raise mobile phone...</td>\n",
       "    </tr>\n",
       "    <tr>\n",
       "      <th>4</th>\n",
       "      <td>business</td>\n",
       "      <td>India's GDP growth slows down to 4.4% in Oct-D...</td>\n",
       "      <td>India's GDP growth rate fell for the second co...</td>\n",
       "    </tr>\n",
       "  </tbody>\n",
       "</table>\n",
       "</div>"
      ],
      "text/plain": [
       "   category                                              title  \\\n",
       "0  business  Sachin Tendulkar and his wife meet Bill Gates;...   \n",
       "1  business  'Best wishes to my classmate,' writes Gates in...   \n",
       "2  business  Ambanis should get Z+ security cover across In...   \n",
       "3  business  People consuming 30 GB and paying almost nothi...   \n",
       "4  business  India's GDP growth slows down to 4.4% in Oct-D...   \n",
       "\n",
       "                                             content  \n",
       "0  Former cricketer Sachin Tendulkar and his wife...  \n",
       "1  Businessman Anand Mahindra on Tuesday met Micr...  \n",
       "2  The Supreme Court on Tuesday stated that the Z...  \n",
       "3  Bharti Airtel is looking to raise mobile phone...  \n",
       "4  India's GDP growth rate fell for the second co...  "
      ]
     },
     "execution_count": 63,
     "metadata": {},
     "output_type": "execute_result"
    }
   ],
   "source": [
    "articles.head()"
   ]
  },
  {
   "cell_type": "code",
   "execution_count": 64,
   "id": "b7937bf7-fe33-45f6-9a89-02c1abcb124f",
   "metadata": {},
   "outputs": [],
   "source": [
    "articles['content'] = articles['content'].apply(basic_clean)"
   ]
  },
  {
   "cell_type": "code",
   "execution_count": 65,
   "id": "8d0158b8-3960-4c98-b751-18ac8cdaa312",
   "metadata": {},
   "outputs": [],
   "source": [
    "articles['content'] = articles['content'].apply(tokenized)"
   ]
  },
  {
   "cell_type": "code",
   "execution_count": 66,
   "id": "83500594-79b1-4ac2-9be3-a249dd1c5549",
   "metadata": {},
   "outputs": [],
   "source": [
    "articles['content'] = articles['content'].apply(lemmatized)"
   ]
  },
  {
   "cell_type": "code",
   "execution_count": 67,
   "id": "45f20169-8295-436f-9aad-4089afde9778",
   "metadata": {},
   "outputs": [],
   "source": [
    "articles['content'] = articles['content'].apply(remove_stopwords)"
   ]
  },
  {
   "cell_type": "code",
   "execution_count": 68,
   "id": "22ff3706-f0fc-42eb-ae0a-5a0f00387862",
   "metadata": {},
   "outputs": [],
   "source": [
    "articles['content'] = articles['content'].str.split()"
   ]
  },
  {
   "cell_type": "code",
   "execution_count": 69,
   "id": "1dee59e6-31e1-4da7-8084-6e4e10abcc24",
   "metadata": {},
   "outputs": [],
   "source": [
    "art_n_gram_list = []\n",
    "for row in articles['content'].apply(ngrams_creator):\n",
    "    art_n_gram_list.extend(row)"
   ]
  },
  {
   "cell_type": "code",
   "execution_count": 70,
   "id": "fb4b0ef5-fbfc-4756-8b5e-0a0e5a0c7f1d",
   "metadata": {},
   "outputs": [],
   "source": [
    "art_n_gram_series = pd.Series(art_n_gram_list)"
   ]
  },
  {
   "cell_type": "code",
   "execution_count": 71,
   "id": "f87e4e70-cc29-4014-a5e8-24901d5c7078",
   "metadata": {},
   "outputs": [
    {
     "data": {
      "text/plain": [
       "(india, ')                 7\n",
       "(', ')                     7\n",
       "(sachin, tendulkar)        5\n",
       "(green, hydrogen)          5\n",
       "(steve, smith)             4\n",
       "(film, ')                  4\n",
       "(supplier, foxlink)        4\n",
       "(manufacturing, sector)    4\n",
       "(data, showed)             4\n",
       "(andhra, pradesh)          4\n",
       "dtype: int64"
      ]
     },
     "execution_count": 71,
     "metadata": {},
     "output_type": "execute_result"
    }
   ],
   "source": [
    "art_n_gram_series.value_counts().head(10)"
   ]
  },
  {
   "cell_type": "code",
   "execution_count": 72,
   "id": "4f0e18a4-bc13-44a2-a28b-0323192fa8d6",
   "metadata": {},
   "outputs": [],
   "source": [
    "topic = ['business', 'sports' , 'technology', 'entertainment']"
   ]
  },
  {
   "cell_type": "code",
   "execution_count": 73,
   "id": "518b9f5a-bfb1-4e55-a024-2f0bfffb75f4",
   "metadata": {},
   "outputs": [],
   "source": [
    "tech_articles = articles[articles.category == 'technology']"
   ]
  },
  {
   "cell_type": "code",
   "execution_count": 74,
   "id": "54f6bf1c-e12f-4faf-9832-baac62ae1ea0",
   "metadata": {},
   "outputs": [],
   "source": [
    "tech_list = []\n",
    "for row in tech_articles['content'].apply(ngrams_creator):\n",
    "    tech_list.extend(row)"
   ]
  },
  {
   "cell_type": "code",
   "execution_count": 75,
   "id": "7e111577-beec-415e-abb4-d1def8c527eb",
   "metadata": {},
   "outputs": [],
   "source": [
    "tech_series = pd.Series(tech_list)"
   ]
  },
  {
   "cell_type": "code",
   "execution_count": 76,
   "id": "b300483d-69ab-4726-8447-57c5aa0909af",
   "metadata": {},
   "outputs": [],
   "source": [
    "biz_articles = articles[articles.category == 'business']"
   ]
  },
  {
   "cell_type": "code",
   "execution_count": 77,
   "id": "f3f2981e-d7a2-4ff4-9247-9f06fb44992e",
   "metadata": {},
   "outputs": [],
   "source": [
    "biz_list = []\n",
    "for row in biz_articles['content'].apply(ngrams_creator):\n",
    "    biz_list.extend(row)"
   ]
  },
  {
   "cell_type": "code",
   "execution_count": 78,
   "id": "053047f6-4aed-44b2-9048-c07039fc4bb0",
   "metadata": {},
   "outputs": [],
   "source": [
    "biz_series = pd.Series(biz_list)"
   ]
  },
  {
   "cell_type": "code",
   "execution_count": 79,
   "id": "18d1bcd2-1bed-4346-8287-e898fc70d0e3",
   "metadata": {},
   "outputs": [],
   "source": [
    "ent_articles = articles[articles.category == 'entertainment']"
   ]
  },
  {
   "cell_type": "code",
   "execution_count": 80,
   "id": "9d902aa8-e60a-498d-ac9c-054406828365",
   "metadata": {},
   "outputs": [],
   "source": [
    "ent_list = []\n",
    "for row in ent_articles['content'].apply(ngrams_creator):\n",
    "    ent_list.extend(row)"
   ]
  },
  {
   "cell_type": "code",
   "execution_count": 87,
   "id": "fd907344-f1a5-4b92-a3f8-13055ba77b3b",
   "metadata": {},
   "outputs": [],
   "source": [
    "ent_series = pd.Series(biz_list)"
   ]
  },
  {
   "cell_type": "code",
   "execution_count": 82,
   "id": "85556cea-c408-4dc7-9444-0878165441fd",
   "metadata": {},
   "outputs": [],
   "source": [
    "sport_articles = articles[articles.category == 'sports']"
   ]
  },
  {
   "cell_type": "code",
   "execution_count": 83,
   "id": "4915aeaa-7ede-474d-a160-07be4faeefa1",
   "metadata": {},
   "outputs": [],
   "source": [
    "sport_list = []\n",
    "for row in sport_articles['content'].apply(ngrams_creator):\n",
    "    sport_list.extend(row)"
   ]
  },
  {
   "cell_type": "code",
   "execution_count": 84,
   "id": "47df6f57-d89a-48ff-8dcc-86c859dc7456",
   "metadata": {},
   "outputs": [],
   "source": [
    "sport_series = pd.Series(sport_list)"
   ]
  },
  {
   "cell_type": "code",
   "execution_count": 85,
   "id": "2448369a-7261-4fad-b635-500bff55e0be",
   "metadata": {},
   "outputs": [
    {
     "data": {
      "text/plain": [
       "0      (pm, narendra)\n",
       "1    (narendra, modi)\n",
       "2     (modi, tuesday)\n",
       "3    (tuesday, asked)\n",
       "4       (asked, tech)\n",
       "dtype: object"
      ]
     },
     "execution_count": 85,
     "metadata": {},
     "output_type": "execute_result"
    }
   ],
   "source": [
    "tech_series.head()"
   ]
  },
  {
   "cell_type": "code",
   "execution_count": 88,
   "id": "29b34852-437c-409a-a8ee-c079f11db3dd",
   "metadata": {},
   "outputs": [
    {
     "data": {
      "text/plain": [
       "0    (former, cricketer)\n",
       "1    (cricketer, sachin)\n",
       "2    (sachin, tendulkar)\n",
       "3      (tendulkar, wife)\n",
       "4         (wife, anjali)\n",
       "dtype: object"
      ]
     },
     "execution_count": 88,
     "metadata": {},
     "output_type": "execute_result"
    }
   ],
   "source": [
    "ent_series.head()"
   ]
  },
  {
   "cell_type": "code",
   "execution_count": 89,
   "id": "a16a96a5-e4cf-4575-a989-662aeba92ad2",
   "metadata": {},
   "outputs": [
    {
     "data": {
      "text/plain": [
       "0    (former, cricketer)\n",
       "1    (cricketer, sachin)\n",
       "2    (sachin, tendulkar)\n",
       "3      (tendulkar, wife)\n",
       "4         (wife, anjali)\n",
       "dtype: object"
      ]
     },
     "execution_count": 89,
     "metadata": {},
     "output_type": "execute_result"
    }
   ],
   "source": [
    "biz_series.head()"
   ]
  },
  {
   "cell_type": "code",
   "execution_count": 90,
   "id": "a3fb6137-d109-4ccd-92d1-653ffa3f2e01",
   "metadata": {},
   "outputs": [
    {
     "data": {
      "text/plain": [
       "0     (portugal, forward)\n",
       "1    (forward, cristiano)\n",
       "2    (cristiano, ronaldo)\n",
       "3    (ronaldo, abstained)\n",
       "4     (abstained, voting)\n",
       "dtype: object"
      ]
     },
     "execution_count": 90,
     "metadata": {},
     "output_type": "execute_result"
    }
   ],
   "source": [
    "sport_series.head()"
   ]
  },
  {
   "cell_type": "code",
   "execution_count": null,
   "id": "89a920e4-4f96-446d-adc5-e12718075161",
   "metadata": {},
   "outputs": [],
   "source": []
  }
 ],
 "metadata": {
  "kernelspec": {
   "display_name": "Python 3 (ipykernel)",
   "language": "python",
   "name": "python3"
  },
  "language_info": {
   "codemirror_mode": {
    "name": "ipython",
    "version": 3
   },
   "file_extension": ".py",
   "mimetype": "text/x-python",
   "name": "python",
   "nbconvert_exporter": "python",
   "pygments_lexer": "ipython3",
   "version": "3.9.15"
  }
 },
 "nbformat": 4,
 "nbformat_minor": 5
}
