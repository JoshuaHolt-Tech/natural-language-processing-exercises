{
 "cells": [
  {
   "cell_type": "code",
   "execution_count": 1,
   "metadata": {},
   "outputs": [],
   "source": [
    "import unicodedata\n",
    "import nltk\n",
    "#nltk.download('wordnet')\n",
    "#nltk.download('omw-1.4')\n",
    "import re\n",
    "from nltk.corpus import stopwords\n",
    "from nltk.tokenize.toktok import ToktokTokenizer\n",
    "import pandas as pd\n",
    "import numpy as np\n",
    "import requests\n",
    "import os\n",
    "import json\n",
    "from acquire_news_articles import *"
   ]
  },
  {
   "cell_type": "code",
   "execution_count": 2,
   "metadata": {},
   "outputs": [],
   "source": [
    "topic = 'technology'"
   ]
  },
  {
   "cell_type": "code",
   "execution_count": 3,
   "metadata": {},
   "outputs": [],
   "source": [
    "articles = scrape_one_page(topic)"
   ]
  },
  {
   "cell_type": "code",
   "execution_count": 4,
   "metadata": {},
   "outputs": [],
   "source": [
    "articles = pd.DataFrame(articles)"
   ]
  },
  {
   "cell_type": "code",
   "execution_count": 5,
   "metadata": {},
   "outputs": [
    {
     "data": {
      "text/html": [
       "<div>\n",
       "<style scoped>\n",
       "    .dataframe tbody tr th:only-of-type {\n",
       "        vertical-align: middle;\n",
       "    }\n",
       "\n",
       "    .dataframe tbody tr th {\n",
       "        vertical-align: top;\n",
       "    }\n",
       "\n",
       "    .dataframe thead th {\n",
       "        text-align: right;\n",
       "    }\n",
       "</style>\n",
       "<table border=\"1\" class=\"dataframe\">\n",
       "  <thead>\n",
       "    <tr style=\"text-align: right;\">\n",
       "      <th></th>\n",
       "      <th>category</th>\n",
       "      <th>title</th>\n",
       "      <th>content</th>\n",
       "    </tr>\n",
       "  </thead>\n",
       "  <tbody>\n",
       "    <tr>\n",
       "      <th>0</th>\n",
       "      <td>technology</td>\n",
       "      <td>Twitter down for thousands of users worldwide</td>\n",
       "      <td>Microblogging platform Twitter suffered an out...</td>\n",
       "    </tr>\n",
       "    <tr>\n",
       "      <th>1</th>\n",
       "      <td>technology</td>\n",
       "      <td>Bill Gates meets Ratan Tata, N Chandrasekaran;...</td>\n",
       "      <td>Microsoft Co-founder Bill Gates met with Tata ...</td>\n",
       "    </tr>\n",
       "    <tr>\n",
       "      <th>2</th>\n",
       "      <td>technology</td>\n",
       "      <td>We can score a century for progress: Gates on ...</td>\n",
       "      <td>Microsoft Co-founder Bill Gates shared a messa...</td>\n",
       "    </tr>\n",
       "    <tr>\n",
       "      <th>3</th>\n",
       "      <td>technology</td>\n",
       "      <td>Woman loses ₹8 lakh after being locked out of ...</td>\n",
       "      <td>A woman in the US has said she was locked out ...</td>\n",
       "    </tr>\n",
       "    <tr>\n",
       "      <th>4</th>\n",
       "      <td>technology</td>\n",
       "      <td>Meta trying to extinguish Cambridge Analytica ...</td>\n",
       "      <td>New Mexico state attorneys have accused Meta o...</td>\n",
       "    </tr>\n",
       "  </tbody>\n",
       "</table>\n",
       "</div>"
      ],
      "text/plain": [
       "     category                                              title  \\\n",
       "0  technology      Twitter down for thousands of users worldwide   \n",
       "1  technology  Bill Gates meets Ratan Tata, N Chandrasekaran;...   \n",
       "2  technology  We can score a century for progress: Gates on ...   \n",
       "3  technology  Woman loses ₹8 lakh after being locked out of ...   \n",
       "4  technology  Meta trying to extinguish Cambridge Analytica ...   \n",
       "\n",
       "                                             content  \n",
       "0  Microblogging platform Twitter suffered an out...  \n",
       "1  Microsoft Co-founder Bill Gates met with Tata ...  \n",
       "2  Microsoft Co-founder Bill Gates shared a messa...  \n",
       "3  A woman in the US has said she was locked out ...  \n",
       "4  New Mexico state attorneys have accused Meta o...  "
      ]
     },
     "execution_count": 5,
     "metadata": {},
     "output_type": "execute_result"
    }
   ],
   "source": [
    "articles.head()"
   ]
  },
  {
   "cell_type": "markdown",
   "metadata": {},
   "source": [
    "Define a function named basic_clean. It should take in a string and apply some basic text cleaning to it:\n",
    "\n",
    "Lowercase everything\n",
    "Normalize unicode characters\n",
    "Replace anything that is not a letter, number, whitespace or a single quote."
   ]
  },
  {
   "cell_type": "code",
   "execution_count": 6,
   "metadata": {},
   "outputs": [],
   "source": [
    "input_string = \"\""
   ]
  },
  {
   "cell_type": "code",
   "execution_count": 7,
   "metadata": {},
   "outputs": [],
   "source": [
    "def basic_clean(input_string):\n",
    "    \"\"\"\n",
    "    This function takes in a string and applies basic cleaning to it.\n",
    "    \"\"\"\n",
    "    #Changes all characters to their lower case.\n",
    "    input_string = input_string.lower()\n",
    "    \n",
    "    input_string = unicodedata.normalize('NFKD', input_string).encode('ascii', 'ignore').decode('utf-8', 'ignore')\n",
    "    \n",
    "    #Removes special characters\n",
    "    input_string = re.sub(r\"[^a-z0-9'\\s]\", '', input_string)\n",
    "\n",
    "    return input_string"
   ]
  },
  {
   "cell_type": "markdown",
   "metadata": {},
   "source": [
    "Trying it in a dataframe. Unsure how to get it to work right:"
   ]
  },
  {
   "cell_type": "code",
   "execution_count": 8,
   "metadata": {},
   "outputs": [],
   "source": [
    "def cleaning_panda_strings(df):\n",
    "    \"\"\" This function does the cleaning operatins on every column in a dataframe.\"\"\"\n",
    "    \n",
    "    for col in df:\n",
    "        df[col] = df[col].apply(basic_clean)\n",
    "    return df"
   ]
  },
  {
   "cell_type": "code",
   "execution_count": 9,
   "metadata": {},
   "outputs": [],
   "source": [
    "new_cats = []\n",
    "for string in articles.category:\n",
    "    string = basic_clean(string)\n",
    "    new_cats.append(string)"
   ]
  },
  {
   "cell_type": "code",
   "execution_count": 10,
   "metadata": {},
   "outputs": [],
   "source": [
    "new_titles = []\n",
    "for string in articles.title:\n",
    "    string = basic_clean(string)\n",
    "    new_titles.append(string)"
   ]
  },
  {
   "cell_type": "code",
   "execution_count": 11,
   "metadata": {},
   "outputs": [],
   "source": [
    "new_content = []\n",
    "for string in articles.content:\n",
    "    string = basic_clean(string)\n",
    "    new_content.append(string)"
   ]
  },
  {
   "cell_type": "code",
   "execution_count": 12,
   "metadata": {},
   "outputs": [],
   "source": [
    "cleaned_dict = {'category':new_cats,\n",
    "                'title': new_titles,\n",
    "                'content': new_content}"
   ]
  },
  {
   "cell_type": "code",
   "execution_count": 13,
   "metadata": {},
   "outputs": [],
   "source": [
    "cleaned_df = pd.DataFrame(cleaned_dict)"
   ]
  },
  {
   "cell_type": "code",
   "execution_count": 14,
   "metadata": {},
   "outputs": [
    {
     "data": {
      "text/html": [
       "<div>\n",
       "<style scoped>\n",
       "    .dataframe tbody tr th:only-of-type {\n",
       "        vertical-align: middle;\n",
       "    }\n",
       "\n",
       "    .dataframe tbody tr th {\n",
       "        vertical-align: top;\n",
       "    }\n",
       "\n",
       "    .dataframe thead th {\n",
       "        text-align: right;\n",
       "    }\n",
       "</style>\n",
       "<table border=\"1\" class=\"dataframe\">\n",
       "  <thead>\n",
       "    <tr style=\"text-align: right;\">\n",
       "      <th></th>\n",
       "      <th>category</th>\n",
       "      <th>title</th>\n",
       "      <th>content</th>\n",
       "    </tr>\n",
       "  </thead>\n",
       "  <tbody>\n",
       "    <tr>\n",
       "      <th>0</th>\n",
       "      <td>technology</td>\n",
       "      <td>twitter down for thousands of users worldwide</td>\n",
       "      <td>microblogging platform twitter suffered an out...</td>\n",
       "    </tr>\n",
       "    <tr>\n",
       "      <th>1</th>\n",
       "      <td>technology</td>\n",
       "      <td>bill gates meets ratan tata n chandrasekaran p...</td>\n",
       "      <td>microsoft cofounder bill gates met with tata s...</td>\n",
       "    </tr>\n",
       "    <tr>\n",
       "      <th>2</th>\n",
       "      <td>technology</td>\n",
       "      <td>we can score a century for progress gates on m...</td>\n",
       "      <td>microsoft cofounder bill gates shared a messag...</td>\n",
       "    </tr>\n",
       "    <tr>\n",
       "      <th>3</th>\n",
       "      <td>technology</td>\n",
       "      <td>woman loses 8 lakh after being locked out of a...</td>\n",
       "      <td>a woman in the us has said she was locked out ...</td>\n",
       "    </tr>\n",
       "    <tr>\n",
       "      <th>4</th>\n",
       "      <td>technology</td>\n",
       "      <td>meta trying to extinguish cambridge analytica ...</td>\n",
       "      <td>new mexico state attorneys have accused meta o...</td>\n",
       "    </tr>\n",
       "  </tbody>\n",
       "</table>\n",
       "</div>"
      ],
      "text/plain": [
       "     category                                              title  \\\n",
       "0  technology      twitter down for thousands of users worldwide   \n",
       "1  technology  bill gates meets ratan tata n chandrasekaran p...   \n",
       "2  technology  we can score a century for progress gates on m...   \n",
       "3  technology  woman loses 8 lakh after being locked out of a...   \n",
       "4  technology  meta trying to extinguish cambridge analytica ...   \n",
       "\n",
       "                                             content  \n",
       "0  microblogging platform twitter suffered an out...  \n",
       "1  microsoft cofounder bill gates met with tata s...  \n",
       "2  microsoft cofounder bill gates shared a messag...  \n",
       "3  a woman in the us has said she was locked out ...  \n",
       "4  new mexico state attorneys have accused meta o...  "
      ]
     },
     "execution_count": 14,
     "metadata": {},
     "output_type": "execute_result"
    }
   ],
   "source": [
    "cleaned_df.head()"
   ]
  },
  {
   "cell_type": "code",
   "execution_count": 15,
   "metadata": {},
   "outputs": [],
   "source": [
    "test_df = cleaning_panda_strings(articles)"
   ]
  },
  {
   "cell_type": "code",
   "execution_count": 16,
   "metadata": {
    "tags": []
   },
   "outputs": [
    {
     "data": {
      "text/html": [
       "<div>\n",
       "<style scoped>\n",
       "    .dataframe tbody tr th:only-of-type {\n",
       "        vertical-align: middle;\n",
       "    }\n",
       "\n",
       "    .dataframe tbody tr th {\n",
       "        vertical-align: top;\n",
       "    }\n",
       "\n",
       "    .dataframe thead th {\n",
       "        text-align: right;\n",
       "    }\n",
       "</style>\n",
       "<table border=\"1\" class=\"dataframe\">\n",
       "  <thead>\n",
       "    <tr style=\"text-align: right;\">\n",
       "      <th></th>\n",
       "      <th>category</th>\n",
       "      <th>title</th>\n",
       "      <th>content</th>\n",
       "    </tr>\n",
       "  </thead>\n",
       "  <tbody>\n",
       "    <tr>\n",
       "      <th>0</th>\n",
       "      <td>technology</td>\n",
       "      <td>twitter down for thousands of users worldwide</td>\n",
       "      <td>microblogging platform twitter suffered an out...</td>\n",
       "    </tr>\n",
       "    <tr>\n",
       "      <th>1</th>\n",
       "      <td>technology</td>\n",
       "      <td>bill gates meets ratan tata n chandrasekaran p...</td>\n",
       "      <td>microsoft cofounder bill gates met with tata s...</td>\n",
       "    </tr>\n",
       "    <tr>\n",
       "      <th>2</th>\n",
       "      <td>technology</td>\n",
       "      <td>we can score a century for progress gates on m...</td>\n",
       "      <td>microsoft cofounder bill gates shared a messag...</td>\n",
       "    </tr>\n",
       "    <tr>\n",
       "      <th>3</th>\n",
       "      <td>technology</td>\n",
       "      <td>woman loses 8 lakh after being locked out of a...</td>\n",
       "      <td>a woman in the us has said she was locked out ...</td>\n",
       "    </tr>\n",
       "    <tr>\n",
       "      <th>4</th>\n",
       "      <td>technology</td>\n",
       "      <td>meta trying to extinguish cambridge analytica ...</td>\n",
       "      <td>new mexico state attorneys have accused meta o...</td>\n",
       "    </tr>\n",
       "  </tbody>\n",
       "</table>\n",
       "</div>"
      ],
      "text/plain": [
       "     category                                              title  \\\n",
       "0  technology      twitter down for thousands of users worldwide   \n",
       "1  technology  bill gates meets ratan tata n chandrasekaran p...   \n",
       "2  technology  we can score a century for progress gates on m...   \n",
       "3  technology  woman loses 8 lakh after being locked out of a...   \n",
       "4  technology  meta trying to extinguish cambridge analytica ...   \n",
       "\n",
       "                                             content  \n",
       "0  microblogging platform twitter suffered an out...  \n",
       "1  microsoft cofounder bill gates met with tata s...  \n",
       "2  microsoft cofounder bill gates shared a messag...  \n",
       "3  a woman in the us has said she was locked out ...  \n",
       "4  new mexico state attorneys have accused meta o...  "
      ]
     },
     "execution_count": 16,
     "metadata": {},
     "output_type": "execute_result"
    }
   ],
   "source": [
    "test_df.head()"
   ]
  },
  {
   "cell_type": "markdown",
   "metadata": {},
   "source": [
    "Define a function named tokenize. It should take in a string and tokenize all the words in the string."
   ]
  },
  {
   "cell_type": "markdown",
   "metadata": {},
   "source": [
    "tokenizer = nltk.tokenize.ToktokTokenizer()"
   ]
  },
  {
   "cell_type": "markdown",
   "metadata": {},
   "source": [
    "new_category_tokens = []\n",
    "for article2 in cleaned_df.category:\n",
    "    article2 = tokenizer.tokenize(article2, return_str=True)\n",
    "    new_category_tokens.append(article2)"
   ]
  },
  {
   "cell_type": "markdown",
   "metadata": {},
   "source": [
    "new_title_tokens = []\n",
    "for article0 in cleaned_df.title:\n",
    "    article0 = tokenizer.tokenize(article0, return_str=True)\n",
    "    new_title_tokens.append(article0)"
   ]
  },
  {
   "cell_type": "markdown",
   "metadata": {},
   "source": [
    "new_content_tokens = []\n",
    "for article1 in cleaned_df.content:\n",
    "    article1 = tokenizer.tokenize(article1, return_str=True)\n",
    "    new_content_tokens.append(article1)"
   ]
  },
  {
   "cell_type": "markdown",
   "metadata": {},
   "source": [
    "tolken_dict = {'category':new_category_tokens,\n",
    "                'title': new_title_tokens,\n",
    "                'content': new_content_tokens}"
   ]
  },
  {
   "cell_type": "markdown",
   "metadata": {},
   "source": [
    "tolken_df = pd.DataFrame(tolken_dict)"
   ]
  },
  {
   "cell_type": "markdown",
   "metadata": {},
   "source": [
    "tolken_df.head()"
   ]
  },
  {
   "cell_type": "code",
   "execution_count": 17,
   "metadata": {},
   "outputs": [],
   "source": [
    "def tokenized(input_string):\n",
    "    tokenizer = nltk.tokenize.ToktokTokenizer()\n",
    "    return tokenizer.tokenize(input_string, return_str=True)"
   ]
  },
  {
   "cell_type": "code",
   "execution_count": 18,
   "metadata": {},
   "outputs": [],
   "source": [
    "def panda_tokens(df):\n",
    "    for col in df:\n",
    "        df[col] = df[col].apply(tokenized)\n",
    "    return df"
   ]
  },
  {
   "cell_type": "code",
   "execution_count": 19,
   "metadata": {},
   "outputs": [],
   "source": [
    "tokenized_df = panda_tokens(test_df)"
   ]
  },
  {
   "cell_type": "markdown",
   "metadata": {},
   "source": [
    "Define a function named stem. It should accept some text and return the text after applying stemming to all the words."
   ]
  },
  {
   "cell_type": "code",
   "execution_count": 20,
   "metadata": {},
   "outputs": [],
   "source": [
    "def stem(input_string):\n",
    "    \"\"\"\n",
    "    Takes a string and reverts each word to its base stem.\n",
    "    Please do not stem and lemmatize the same string.\n",
    "    \"\"\"\n",
    "    #Create stemming object\n",
    "    ps = nltk.porter.PorterStemmer()\n",
    "\n",
    "    #List comprehension that splits every word to find the stem of it.\n",
    "    stems = [ps.stem(word) for word in input_string.split()]\n",
    "\n",
    "    #Joins words back together to form a shadow of the origional\n",
    "    stemmed_string = ' '.join(stems)\n",
    "    \n",
    "    return stemmed_string"
   ]
  },
  {
   "cell_type": "code",
   "execution_count": 21,
   "metadata": {},
   "outputs": [],
   "source": [
    "def stemming_pandas(df):\n",
    "    \"\"\"\n",
    "    Does stemming on a panda's DataFrame\n",
    "    Please do not stem and lemmatize the same string.\n",
    "    \"\"\"\n",
    "    \n",
    "    #Applies the stemming() function to each column\n",
    "    for col in df:\n",
    "        df[col] = df[col].apply(stem)\n",
    "    return df"
   ]
  },
  {
   "cell_type": "code",
   "execution_count": 22,
   "metadata": {},
   "outputs": [],
   "source": [
    "stemmed_df = stemming_pandas(tokenized_df)"
   ]
  },
  {
   "cell_type": "code",
   "execution_count": 23,
   "metadata": {},
   "outputs": [
    {
     "data": {
      "text/html": [
       "<div>\n",
       "<style scoped>\n",
       "    .dataframe tbody tr th:only-of-type {\n",
       "        vertical-align: middle;\n",
       "    }\n",
       "\n",
       "    .dataframe tbody tr th {\n",
       "        vertical-align: top;\n",
       "    }\n",
       "\n",
       "    .dataframe thead th {\n",
       "        text-align: right;\n",
       "    }\n",
       "</style>\n",
       "<table border=\"1\" class=\"dataframe\">\n",
       "  <thead>\n",
       "    <tr style=\"text-align: right;\">\n",
       "      <th></th>\n",
       "      <th>category</th>\n",
       "      <th>title</th>\n",
       "      <th>content</th>\n",
       "    </tr>\n",
       "  </thead>\n",
       "  <tbody>\n",
       "    <tr>\n",
       "      <th>0</th>\n",
       "      <td>technolog</td>\n",
       "      <td>twitter down for thousand of user worldwid</td>\n",
       "      <td>microblog platform twitter suffer an outag on ...</td>\n",
       "    </tr>\n",
       "    <tr>\n",
       "      <th>1</th>\n",
       "      <td>technolog</td>\n",
       "      <td>bill gate meet ratan tata n chandrasekaran pic...</td>\n",
       "      <td>microsoft cofound bill gate met with tata son ...</td>\n",
       "    </tr>\n",
       "    <tr>\n",
       "      <th>2</th>\n",
       "      <td>technolog</td>\n",
       "      <td>we can score a centuri for progress gate on me...</td>\n",
       "      <td>microsoft cofound bill gate share a messag on ...</td>\n",
       "    </tr>\n",
       "    <tr>\n",
       "      <th>3</th>\n",
       "      <td>technolog</td>\n",
       "      <td>woman lose 8 lakh after be lock out of appl ac...</td>\n",
       "      <td>a woman in the us ha said she wa lock out of h...</td>\n",
       "    </tr>\n",
       "    <tr>\n",
       "      <th>4</th>\n",
       "      <td>technolog</td>\n",
       "      <td>meta tri to extinguish cambridg analytica clai...</td>\n",
       "      <td>new mexico state attorney have accus meta of w...</td>\n",
       "    </tr>\n",
       "  </tbody>\n",
       "</table>\n",
       "</div>"
      ],
      "text/plain": [
       "    category                                              title  \\\n",
       "0  technolog         twitter down for thousand of user worldwid   \n",
       "1  technolog  bill gate meet ratan tata n chandrasekaran pic...   \n",
       "2  technolog  we can score a centuri for progress gate on me...   \n",
       "3  technolog  woman lose 8 lakh after be lock out of appl ac...   \n",
       "4  technolog  meta tri to extinguish cambridg analytica clai...   \n",
       "\n",
       "                                             content  \n",
       "0  microblog platform twitter suffer an outag on ...  \n",
       "1  microsoft cofound bill gate met with tata son ...  \n",
       "2  microsoft cofound bill gate share a messag on ...  \n",
       "3  a woman in the us ha said she wa lock out of h...  \n",
       "4  new mexico state attorney have accus meta of w...  "
      ]
     },
     "execution_count": 23,
     "metadata": {},
     "output_type": "execute_result"
    }
   ],
   "source": [
    "stemmed_df.head()"
   ]
  },
  {
   "cell_type": "markdown",
   "metadata": {},
   "source": [
    "Define a function named lemmatize. It should accept some text and return the text after applying lemmatization to each word."
   ]
  },
  {
   "cell_type": "code",
   "execution_count": 24,
   "metadata": {},
   "outputs": [],
   "source": [
    "def lemmatize(input_string):\n",
    "    \"\"\"\n",
    "    Takes an input string and lemmatizes it.\n",
    "    Please do not stem and lemmatize the same string.\n",
    "    \"\"\"\n",
    "    #Creates the lemmatizer object\n",
    "    wnl = nltk.stem.WordNetLemmatizer()\n",
    "    \n",
    "    #Makes lemmatade\n",
    "    lemmas = [wnl.lemmatize(word) for word in input_string.split()]\n",
    "    lemmatized_string = ' '.join(lemmas)\n",
    "    \n",
    "    return lemmatized_string"
   ]
  },
  {
   "cell_type": "code",
   "execution_count": 25,
   "metadata": {},
   "outputs": [],
   "source": [
    "def lemm_pandas(df):\n",
    "    \"\"\"\n",
    "    Lemmatize a panda's DataFrame\n",
    "    Please do not stem and lemmatize the same string.\n",
    "    \"\"\"\n",
    "    \n",
    "    #Applies the lemmatize() function to each column\n",
    "    for col in df:\n",
    "        df[col] = df[col].apply(lemmatize)\n",
    "    return df"
   ]
  },
  {
   "cell_type": "code",
   "execution_count": 26,
   "metadata": {},
   "outputs": [],
   "source": [
    "lemm_df = lemm_pandas(tokenized_df) #Made sure to use a non-stemmed df"
   ]
  },
  {
   "cell_type": "code",
   "execution_count": 27,
   "metadata": {},
   "outputs": [
    {
     "data": {
      "text/html": [
       "<div>\n",
       "<style scoped>\n",
       "    .dataframe tbody tr th:only-of-type {\n",
       "        vertical-align: middle;\n",
       "    }\n",
       "\n",
       "    .dataframe tbody tr th {\n",
       "        vertical-align: top;\n",
       "    }\n",
       "\n",
       "    .dataframe thead th {\n",
       "        text-align: right;\n",
       "    }\n",
       "</style>\n",
       "<table border=\"1\" class=\"dataframe\">\n",
       "  <thead>\n",
       "    <tr style=\"text-align: right;\">\n",
       "      <th></th>\n",
       "      <th>category</th>\n",
       "      <th>title</th>\n",
       "      <th>content</th>\n",
       "    </tr>\n",
       "  </thead>\n",
       "  <tbody>\n",
       "    <tr>\n",
       "      <th>0</th>\n",
       "      <td>technolog</td>\n",
       "      <td>twitter down for thousand of user worldwid</td>\n",
       "      <td>microblog platform twitter suffer an outag on ...</td>\n",
       "    </tr>\n",
       "    <tr>\n",
       "      <th>1</th>\n",
       "      <td>technolog</td>\n",
       "      <td>bill gate meet ratan tata n chandrasekaran pic...</td>\n",
       "      <td>microsoft cofound bill gate met with tata son ...</td>\n",
       "    </tr>\n",
       "    <tr>\n",
       "      <th>2</th>\n",
       "      <td>technolog</td>\n",
       "      <td>we can score a centuri for progress gate on me...</td>\n",
       "      <td>microsoft cofound bill gate share a messag on ...</td>\n",
       "    </tr>\n",
       "    <tr>\n",
       "      <th>3</th>\n",
       "      <td>technolog</td>\n",
       "      <td>woman lose 8 lakh after be lock out of appl ac...</td>\n",
       "      <td>a woman in the u ha said she wa lock out of he...</td>\n",
       "    </tr>\n",
       "    <tr>\n",
       "      <th>4</th>\n",
       "      <td>technolog</td>\n",
       "      <td>meta tri to extinguish cambridg analytica clai...</td>\n",
       "      <td>new mexico state attorney have accus meta of w...</td>\n",
       "    </tr>\n",
       "  </tbody>\n",
       "</table>\n",
       "</div>"
      ],
      "text/plain": [
       "    category                                              title  \\\n",
       "0  technolog         twitter down for thousand of user worldwid   \n",
       "1  technolog  bill gate meet ratan tata n chandrasekaran pic...   \n",
       "2  technolog  we can score a centuri for progress gate on me...   \n",
       "3  technolog  woman lose 8 lakh after be lock out of appl ac...   \n",
       "4  technolog  meta tri to extinguish cambridg analytica clai...   \n",
       "\n",
       "                                             content  \n",
       "0  microblog platform twitter suffer an outag on ...  \n",
       "1  microsoft cofound bill gate met with tata son ...  \n",
       "2  microsoft cofound bill gate share a messag on ...  \n",
       "3  a woman in the u ha said she wa lock out of he...  \n",
       "4  new mexico state attorney have accus meta of w...  "
      ]
     },
     "execution_count": 27,
     "metadata": {},
     "output_type": "execute_result"
    }
   ],
   "source": [
    "lemm_df.head()"
   ]
  },
  {
   "cell_type": "markdown",
   "metadata": {},
   "source": [
    "Define a function named remove_stopwords. It should accept some text and return the text after removing all the stopwords."
   ]
  },
  {
   "cell_type": "code",
   "execution_count": 28,
   "metadata": {},
   "outputs": [],
   "source": [
    "def remove_stopwords(input_string, extra_words=None, exclude_words=None):\n",
    "    \"\"\"\n",
    "    This function takes an input and removes stopwords. You can add or remove words witht the extra_words or exclude_words args.\n",
    "    \"\"\"\n",
    "    \n",
    "    stopword_list = stopwords.words('english')\n",
    "    if extra_words != None:\n",
    "        extra_words.extend(extra_words)\n",
    "    if exclude_words != None:\n",
    "        if type(extra_words) == str:\n",
    "            stopword_list.remove(extra_words)\n",
    "        if type(extra_words) == list:\n",
    "            for word in extra_words:\n",
    "                stopword_list.remove(word)\n",
    "    words = input_string.split()\n",
    "    filtered_words = [w for w in words if w not in stopword_list]\n",
    "    article_without_stopwords = ' '.join(filtered_words)\n",
    "\n",
    "    return article_without_stopwords"
   ]
  },
  {
   "cell_type": "code",
   "execution_count": 29,
   "metadata": {},
   "outputs": [],
   "source": [
    "def pandas_stopwords(df, extra_words=None, exclude_words=None):\n",
    "    \"\"\"\n",
    "    This function takes an DataFrame input and removes stopwords from each column.\n",
    "    You can add or remove words witht the extra_words or exclude_words args.\n",
    "    \"\"\"\n",
    "    for col in df:\n",
    "        df[col] = df[col].apply(remove_stopwords, extra_words=extra_words, exclude_words=exclude_words)\n",
    "    return df"
   ]
  },
  {
   "cell_type": "code",
   "execution_count": 30,
   "metadata": {},
   "outputs": [],
   "source": [
    "stopwordsless_lemm_df = pandas_stopwords(lemm_df)\n",
    "stopwordsless_stem_df = pandas_stopwords(stemmed_df)"
   ]
  },
  {
   "cell_type": "code",
   "execution_count": 31,
   "metadata": {},
   "outputs": [
    {
     "data": {
      "text/html": [
       "<div>\n",
       "<style scoped>\n",
       "    .dataframe tbody tr th:only-of-type {\n",
       "        vertical-align: middle;\n",
       "    }\n",
       "\n",
       "    .dataframe tbody tr th {\n",
       "        vertical-align: top;\n",
       "    }\n",
       "\n",
       "    .dataframe thead th {\n",
       "        text-align: right;\n",
       "    }\n",
       "</style>\n",
       "<table border=\"1\" class=\"dataframe\">\n",
       "  <thead>\n",
       "    <tr style=\"text-align: right;\">\n",
       "      <th></th>\n",
       "      <th>category</th>\n",
       "      <th>title</th>\n",
       "      <th>content</th>\n",
       "    </tr>\n",
       "  </thead>\n",
       "  <tbody>\n",
       "    <tr>\n",
       "      <th>0</th>\n",
       "      <td>technolog</td>\n",
       "      <td>twitter thousand user worldwid</td>\n",
       "      <td>microblog platform twitter suffer outag wednes...</td>\n",
       "    </tr>\n",
       "    <tr>\n",
       "      <th>1</th>\n",
       "      <td>technolog</td>\n",
       "      <td>bill gate meet ratan tata n chandrasekaran pic...</td>\n",
       "      <td>microsoft cofound bill gate met tata son chair...</td>\n",
       "    </tr>\n",
       "    <tr>\n",
       "      <th>2</th>\n",
       "      <td>technolog</td>\n",
       "      <td>score centuri progress gate meet tendulkar</td>\n",
       "      <td>microsoft cofound bill gate share messag twitt...</td>\n",
       "    </tr>\n",
       "    <tr>\n",
       "      <th>3</th>\n",
       "      <td>technolog</td>\n",
       "      <td>woman lose 8 lakh lock appl account u</td>\n",
       "      <td>woman u ha said wa lock appl account thief sto...</td>\n",
       "    </tr>\n",
       "    <tr>\n",
       "      <th>4</th>\n",
       "      <td>technolog</td>\n",
       "      <td>meta tri extinguish cambridg analytica claim u...</td>\n",
       "      <td>new mexico state attorney accus meta wrong cla...</td>\n",
       "    </tr>\n",
       "  </tbody>\n",
       "</table>\n",
       "</div>"
      ],
      "text/plain": [
       "    category                                              title  \\\n",
       "0  technolog                     twitter thousand user worldwid   \n",
       "1  technolog  bill gate meet ratan tata n chandrasekaran pic...   \n",
       "2  technolog         score centuri progress gate meet tendulkar   \n",
       "3  technolog              woman lose 8 lakh lock appl account u   \n",
       "4  technolog  meta tri extinguish cambridg analytica claim u...   \n",
       "\n",
       "                                             content  \n",
       "0  microblog platform twitter suffer outag wednes...  \n",
       "1  microsoft cofound bill gate met tata son chair...  \n",
       "2  microsoft cofound bill gate share messag twitt...  \n",
       "3  woman u ha said wa lock appl account thief sto...  \n",
       "4  new mexico state attorney accus meta wrong cla...  "
      ]
     },
     "execution_count": 31,
     "metadata": {},
     "output_type": "execute_result"
    }
   ],
   "source": [
    "stopwordsless_lemm_df.head()"
   ]
  },
  {
   "cell_type": "code",
   "execution_count": 32,
   "metadata": {},
   "outputs": [
    {
     "data": {
      "text/html": [
       "<div>\n",
       "<style scoped>\n",
       "    .dataframe tbody tr th:only-of-type {\n",
       "        vertical-align: middle;\n",
       "    }\n",
       "\n",
       "    .dataframe tbody tr th {\n",
       "        vertical-align: top;\n",
       "    }\n",
       "\n",
       "    .dataframe thead th {\n",
       "        text-align: right;\n",
       "    }\n",
       "</style>\n",
       "<table border=\"1\" class=\"dataframe\">\n",
       "  <thead>\n",
       "    <tr style=\"text-align: right;\">\n",
       "      <th></th>\n",
       "      <th>category</th>\n",
       "      <th>title</th>\n",
       "      <th>content</th>\n",
       "    </tr>\n",
       "  </thead>\n",
       "  <tbody>\n",
       "    <tr>\n",
       "      <th>0</th>\n",
       "      <td>technolog</td>\n",
       "      <td>twitter thousand user worldwid</td>\n",
       "      <td>microblog platform twitter suffer outag wednes...</td>\n",
       "    </tr>\n",
       "    <tr>\n",
       "      <th>1</th>\n",
       "      <td>technolog</td>\n",
       "      <td>bill gate meet ratan tata n chandrasekaran pic...</td>\n",
       "      <td>microsoft cofound bill gate met tata son chair...</td>\n",
       "    </tr>\n",
       "    <tr>\n",
       "      <th>2</th>\n",
       "      <td>technolog</td>\n",
       "      <td>score centuri progress gate meet tendulkar</td>\n",
       "      <td>microsoft cofound bill gate share messag twitt...</td>\n",
       "    </tr>\n",
       "    <tr>\n",
       "      <th>3</th>\n",
       "      <td>technolog</td>\n",
       "      <td>woman lose 8 lakh lock appl account u</td>\n",
       "      <td>woman u ha said wa lock appl account thief sto...</td>\n",
       "    </tr>\n",
       "    <tr>\n",
       "      <th>4</th>\n",
       "      <td>technolog</td>\n",
       "      <td>meta tri extinguish cambridg analytica claim u...</td>\n",
       "      <td>new mexico state attorney accus meta wrong cla...</td>\n",
       "    </tr>\n",
       "  </tbody>\n",
       "</table>\n",
       "</div>"
      ],
      "text/plain": [
       "    category                                              title  \\\n",
       "0  technolog                     twitter thousand user worldwid   \n",
       "1  technolog  bill gate meet ratan tata n chandrasekaran pic...   \n",
       "2  technolog         score centuri progress gate meet tendulkar   \n",
       "3  technolog              woman lose 8 lakh lock appl account u   \n",
       "4  technolog  meta tri extinguish cambridg analytica claim u...   \n",
       "\n",
       "                                             content  \n",
       "0  microblog platform twitter suffer outag wednes...  \n",
       "1  microsoft cofound bill gate met tata son chair...  \n",
       "2  microsoft cofound bill gate share messag twitt...  \n",
       "3  woman u ha said wa lock appl account thief sto...  \n",
       "4  new mexico state attorney accus meta wrong cla...  "
      ]
     },
     "execution_count": 32,
     "metadata": {},
     "output_type": "execute_result"
    }
   ],
   "source": [
    "stopwordsless_stem_df.head()"
   ]
  },
  {
   "cell_type": "markdown",
   "metadata": {},
   "source": [
    "This function should define two optional parameters, extra_words and exclude_words. These parameters should define any additional stop words to include, and any words that we don't want to remove."
   ]
  },
  {
   "cell_type": "code",
   "execution_count": 33,
   "metadata": {},
   "outputs": [
    {
     "name": "stdout",
     "output_type": "stream",
     "text": [
      "Done\n"
     ]
    }
   ],
   "source": [
    "print(\"Done\")"
   ]
  },
  {
   "cell_type": "markdown",
   "metadata": {},
   "source": [
    "Use your data from the acquire to produce a dataframe of the news articles. Name the dataframe news_df."
   ]
  },
  {
   "cell_type": "code",
   "execution_count": 34,
   "metadata": {},
   "outputs": [],
   "source": [
    "news_df = stopwordsless_lemm_df.copy"
   ]
  },
  {
   "cell_type": "markdown",
   "metadata": {},
   "source": [
    "Make another dataframe for the Codeup blog posts. Name the dataframe codeup_df."
   ]
  },
  {
   "cell_type": "code",
   "execution_count": 35,
   "metadata": {},
   "outputs": [],
   "source": [
    "headers = {'User-Agent': 'Codeup Data Science'}\n"
   ]
  },
  {
   "cell_type": "code",
   "execution_count": 36,
   "metadata": {},
   "outputs": [
    {
     "data": {
      "text/plain": [
       "[<a class=\"more-link\" href=\"https://codeup.com/codeup-news/panelist-spotlight-4/\">read more</a>,\n",
       " <a class=\"more-link\" href=\"https://codeup.com/events/black-excellence-in-tech-panelist-spotlight-stephanie-jones/\">read more</a>,\n",
       " <a class=\"more-link\" href=\"https://codeup.com/events/black-excellence-in-tech-panelist-spotlight-james-cooper/\">read more</a>,\n",
       " <a class=\"more-link\" href=\"https://codeup.com/events/black-excellence-in-tech-panelist-spotlight/\">read more</a>,\n",
       " <a class=\"more-link\" href=\"https://codeup.com/tips-for-prospective-students/coding-bootcamp-or-self-learning/\">read more</a>,\n",
       " <a class=\"more-link\" href=\"https://codeup.com/codeup-news/codeup-best-bootcamps/\">read more</a>]"
      ]
     },
     "execution_count": 36,
     "metadata": {},
     "output_type": "execute_result"
    }
   ],
   "source": [
    "#Scrape blog homepage for links\n",
    "url = 'https://codeup.com/blog/'\n",
    "\n",
    "response = get(url, headers=headers)\n",
    "\n",
    "soup = BeautifulSoup(response.content, 'html.parser')\n",
    "\n",
    "more_links = soup.find_all('a', class_='more-link')\n",
    "\n",
    "more_links"
   ]
  },
  {
   "cell_type": "code",
   "execution_count": 37,
   "metadata": {},
   "outputs": [
    {
     "data": {
      "text/plain": [
       "['https://codeup.com/codeup-news/panelist-spotlight-4/',\n",
       " 'https://codeup.com/events/black-excellence-in-tech-panelist-spotlight-stephanie-jones/',\n",
       " 'https://codeup.com/events/black-excellence-in-tech-panelist-spotlight-james-cooper/',\n",
       " 'https://codeup.com/events/black-excellence-in-tech-panelist-spotlight/',\n",
       " 'https://codeup.com/tips-for-prospective-students/coding-bootcamp-or-self-learning/',\n",
       " 'https://codeup.com/codeup-news/codeup-best-bootcamps/']"
      ]
     },
     "execution_count": 37,
     "metadata": {},
     "output_type": "execute_result"
    }
   ],
   "source": [
    "#Extract the links into something I can use\n",
    "links_list = [link['href'] for link in more_links]\n",
    "\n",
    "links_list"
   ]
  },
  {
   "cell_type": "code",
   "execution_count": 38,
   "metadata": {},
   "outputs": [],
   "source": [
    "codeup_text = get_blog_articles(links_list)"
   ]
  },
  {
   "cell_type": "code",
   "execution_count": 40,
   "metadata": {},
   "outputs": [],
   "source": [
    "codeup_df = pd.DataFrame(codeup_text)"
   ]
  },
  {
   "cell_type": "code",
   "execution_count": 41,
   "metadata": {},
   "outputs": [],
   "source": [
    "clean_codeup_df = cleaning_panda_strings(codeup_df)"
   ]
  },
  {
   "cell_type": "code",
   "execution_count": null,
   "metadata": {},
   "outputs": [],
   "source": []
  },
  {
   "cell_type": "code",
   "execution_count": null,
   "metadata": {},
   "outputs": [],
   "source": []
  },
  {
   "cell_type": "code",
   "execution_count": null,
   "metadata": {},
   "outputs": [],
   "source": []
  },
  {
   "cell_type": "markdown",
   "metadata": {},
   "source": [
    "For each dataframe, produce the following columns:\n",
    "\n",
    "title to hold the title\n",
    "original to hold the original article/post content\n",
    "clean to hold the normalized and tokenized original with the stopwords removed.\n",
    "stemmed to hold the stemmed version of the cleaned data.\n",
    "lemmatized to hold the lemmatized version of the cleaned data."
   ]
  },
  {
   "cell_type": "markdown",
   "metadata": {},
   "source": [
    "Ask yourself:\n",
    "\n",
    "If your corpus is 493KB, would you prefer to use stemmed or lemmatized text?\n",
    "- lemmatized\n",
    "If your corpus is 25MB, would you prefer to use stemmed or lemmatized text?\n",
    "- lemmatized\n",
    "If your corpus is 200TB of text and you're charged by the megabyte for your hosted computational resources, would you prefer to use stemmed or lemmatized text?\n",
    "- My money = stemmed, someone else's money = lemmatized."
   ]
  },
  {
   "cell_type": "code",
   "execution_count": null,
   "metadata": {},
   "outputs": [],
   "source": []
  }
 ],
 "metadata": {
  "kernelspec": {
   "display_name": "Python 3 (ipykernel)",
   "language": "python",
   "name": "python3"
  },
  "language_info": {
   "codemirror_mode": {
    "name": "ipython",
    "version": 3
   },
   "file_extension": ".py",
   "mimetype": "text/x-python",
   "name": "python",
   "nbconvert_exporter": "python",
   "pygments_lexer": "ipython3",
   "version": "3.9.15"
  }
 },
 "nbformat": 4,
 "nbformat_minor": 4
}
